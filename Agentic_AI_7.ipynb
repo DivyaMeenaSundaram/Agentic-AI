{
  "nbformat": 4,
  "nbformat_minor": 0,
  "metadata": {
    "colab": {
      "provenance": [],
      "authorship_tag": "ABX9TyMrISlxJrodW+yjsveOLds9",
      "include_colab_link": true
    },
    "kernelspec": {
      "name": "python3",
      "display_name": "Python 3"
    },
    "language_info": {
      "name": "python"
    }
  },
  "cells": [
    {
      "cell_type": "markdown",
      "metadata": {
        "id": "view-in-github",
        "colab_type": "text"
      },
      "source": [
        "<a href=\"https://colab.research.google.com/github/DivyaMeenaSundaram/Agentic-AI/blob/main/Agentic_AI_7.ipynb\" target=\"_parent\"><img src=\"https://colab.research.google.com/assets/colab-badge.svg\" alt=\"Open In Colab\"/></a>"
      ]
    },
    {
      "cell_type": "markdown",
      "source": [
        "Sentiment Analysis"
      ],
      "metadata": {
        "id": "_neNRGjmSMf6"
      }
    },
    {
      "cell_type": "code",
      "execution_count": 1,
      "metadata": {
        "colab": {
          "base_uri": "https://localhost:8080/"
        },
        "id": "BACyan1BRoDN",
        "outputId": "4cef4244-d178-402c-c520-4b9830bffbde"
      },
      "outputs": [
        {
          "output_type": "stream",
          "name": "stdout",
          "text": [
            "\u001b[?25l   \u001b[90m━━━━━━━━━━━━━━━━━━━━━━━━━━━━━━━━━━━━━━━━\u001b[0m \u001b[32m0.0/42.0 kB\u001b[0m \u001b[31m?\u001b[0m eta \u001b[36m-:--:--\u001b[0m\r\u001b[2K   \u001b[91m━━━━━━━━━━━━━━━━━━━━━━━━━━━━━━━━━━━━━━━\u001b[0m\u001b[90m╺\u001b[0m \u001b[32m41.0/42.0 kB\u001b[0m \u001b[31m94.5 MB/s\u001b[0m eta \u001b[36m0:00:01\u001b[0m\r\u001b[2K   \u001b[90m━━━━━━━━━━━━━━━━━━━━━━━━━━━━━━━━━━━━━━━━\u001b[0m \u001b[32m42.0/42.0 kB\u001b[0m \u001b[31m862.5 kB/s\u001b[0m eta \u001b[36m0:00:00\u001b[0m\n",
            "\u001b[?25h"
          ]
        }
      ],
      "source": [
        "!pip install -q langchain langchain-google-genai google-generativeai"
      ]
    },
    {
      "cell_type": "code",
      "source": [
        "from google.colab import userdata\n",
        "import os\n",
        "import time\n",
        "from langchain_google_genai import ChatGoogleGenerativeAI\n",
        "from langchain.prompts import ChatPromptTemplate\n",
        "from langchain.chains import LLMChain\n",
        "from langchain.chains import SimpleSequentialChain\n",
        "from langchain.chains import TransformChain\n",
        "\n",
        "try:\n",
        "   GOOGLE_API_KEY = userdata.get('Divya_Key')\n",
        "   os.environ['GOOGLE_API_KEY'] = GOOGLE_API_KEY\n",
        "   llm = ChatGoogleGenerativeAI(model=\"gemini-2.0-flash-lite\", temperature=0.7) # Slightly higher temp for creativity\n",
        "   print(\"API Key loaded and LLM initialized successfully.\")\n",
        "   setup_ok = True\n",
        "except Exception as e:\n",
        "   print(f\"ERROR: Could not load API key or initialize LLM. {e}\")\n",
        "   print(\"Please ensure GOOGLE_API_KEY is set in Colab Secrets.\")\n",
        "   setup_ok = False"
      ],
      "metadata": {
        "colab": {
          "base_uri": "https://localhost:8080/"
        },
        "id": "_XPKS7_5RrEK",
        "outputId": "49b8af9d-34ca-4796-ae30-8d5198ff0b4a"
      },
      "execution_count": 3,
      "outputs": [
        {
          "output_type": "stream",
          "name": "stdout",
          "text": [
            "API Key loaded and LLM initialized successfully.\n"
          ]
        }
      ]
    },
    {
      "cell_type": "code",
      "source": [
        "chain1_template_text = \"\"\"\n",
        "You are an expert product reviewer.\n",
        "Given the product name: \"{topic}\", generate a comprehensive review of the product.\n",
        "The review can be only positive or negative or neutral. give more positive or negative reviews than neutral ones. Do not explicitly mention if it is positive, negative or neutral.\n",
        "\"\"\"\n",
        "chain1_prompt = ChatPromptTemplate.from_template(chain1_template_text)\n",
        "chain1 = LLMChain(llm=llm, prompt=chain1_prompt)\n",
        "print(\"Chain 1 created.\")\n",
        "\n",
        "\n",
        "chain2_template_text = \"\"\"\n",
        "Given a product review \"{blog_post_idea}\",\n",
        "perform sentiment analysis of the review. Categorize it as positive, negative, or neutral.\n",
        "Give a list of top 5 short reasons why the review is so.\n",
        "\"\"\"\n",
        "chain2_prompt = ChatPromptTemplate.from_template(chain2_template_text)\n",
        "chain2 = LLMChain(llm=llm, prompt=chain2_prompt)\n",
        "print(\"Chain 2 created.\")\n",
        "\n",
        "\n",
        "def delay_function(inputs):\n",
        "      \"\"\"This function pauses execution and then passes the input through.\"\"\"\n",
        "      print(\"\\n--- Pausing for 5s to avoid rate limiting... ---\")\n",
        "      time.sleep(5)\n",
        "      return inputs\n",
        "\n",
        "\n",
        "delay_chain = TransformChain(\n",
        "      input_variables=[\"blog_post_idea\"],\n",
        "      output_variables=[\"blog_post_idea\"],\n",
        "      transform=delay_function\n",
        ")\n",
        "print(\"Delay Chain created.\")\n",
        "\n",
        "\n",
        "overall_chain = SimpleSequentialChain(\n",
        "  chains=[chain1, delay_chain, chain2],\n",
        "  verbose=True\n",
        ")\n",
        "\n",
        "\n",
        "print(\"Overall SimpleSequentialChain created with a chain 1, delay, chain2.\")\n",
        "\n",
        "# --- Run the Overall Chain ---\n",
        "input_topic = \"dark roast coffee powder\"\n",
        "final_response = overall_chain.invoke(input_topic)\n",
        "print(final_response)\n"
      ],
      "metadata": {
        "colab": {
          "base_uri": "https://localhost:8080/"
        },
        "id": "WY_D5sLUR20z",
        "outputId": "10ee643a-9c60-465b-a120-0b87c5b2e270"
      },
      "execution_count": 4,
      "outputs": [
        {
          "output_type": "stream",
          "name": "stderr",
          "text": [
            "/tmp/ipython-input-4-3024052396.py:7: LangChainDeprecationWarning: The class `LLMChain` was deprecated in LangChain 0.1.17 and will be removed in 1.0. Use :meth:`~RunnableSequence, e.g., `prompt | llm`` instead.\n",
            "  chain1 = LLMChain(llm=llm, prompt=chain1_prompt)\n"
          ]
        },
        {
          "output_type": "stream",
          "name": "stdout",
          "text": [
            "Chain 1 created.\n",
            "Chain 2 created.\n",
            "Delay Chain created.\n",
            "Overall SimpleSequentialChain created with a chain 1, delay, chain2.\n",
            "\n",
            "\n",
            "\u001b[1m> Entering new SimpleSequentialChain chain...\u001b[0m\n",
            "\u001b[36;1m\u001b[1;3mHere's a review of \"dark roast coffee powder\":\n",
            "\n",
            "The aroma alone is enough to get your senses going. The moment you crack the seal, a rich, smoky fragrance escapes, promising a bold coffee experience. Brewing is a breeze; the powder dissolves readily in hot water, creating a deep, almost obsidian liquid. The taste doesn't disappoint. It delivers on the promise of its aroma, offering a full-bodied, intense flavor profile. There's a satisfying bitterness, balanced by subtle notes of chocolate and a hint of caramel. The finish is long and lingering, leaving a pleasant warmth. This coffee is perfect for those who crave a strong, assertive cup in the morning, or as a pick-me-up throughout the day. It’s a truly invigorating experience. For espresso lovers, the crema produced is rich and velvety, adding to the overall indulgence. The packaging is also well-designed, keeping the powder fresh. This is a fantastic option for anyone who appreciates a truly dark and flavorful coffee.\u001b[0m\n",
            "\n",
            "--- Pausing for 5s to avoid rate limiting... ---\n",
            "\u001b[33;1m\u001b[1;3mHere's a review of \"dark roast coffee powder\":\n",
            "\n",
            "The aroma alone is enough to get your senses going. The moment you crack the seal, a rich, smoky fragrance escapes, promising a bold coffee experience. Brewing is a breeze; the powder dissolves readily in hot water, creating a deep, almost obsidian liquid. The taste doesn't disappoint. It delivers on the promise of its aroma, offering a full-bodied, intense flavor profile. There's a satisfying bitterness, balanced by subtle notes of chocolate and a hint of caramel. The finish is long and lingering, leaving a pleasant warmth. This coffee is perfect for those who crave a strong, assertive cup in the morning, or as a pick-me-up throughout the day. It’s a truly invigorating experience. For espresso lovers, the crema produced is rich and velvety, adding to the overall indulgence. The packaging is also well-designed, keeping the powder fresh. This is a fantastic option for anyone who appreciates a truly dark and flavorful coffee.\u001b[0m\n",
            "\u001b[38;5;200m\u001b[1;3mThe sentiment of the review is **positive**.\n",
            "\n",
            "Here's a breakdown of the top 5 reasons why:\n",
            "\n",
            "1.  **Highly positive language:** The review uses overwhelmingly positive adjectives and phrases such as \"rich,\" \"smoky,\" \"bold,\" \"deep,\" \"intense,\" \"satisfying,\" \"pleasant,\" \"invigorating,\" \"rich and velvety,\" and \"fantastic.\"\n",
            "2.  **Strong endorsement of taste and aroma:** The review repeatedly praises the coffee's aroma and taste, stating it \"delivers on the promise,\" is \"full-bodied,\" and has a \"long and lingering\" finish. This is a core component of a coffee review.\n",
            "3.  **Ease of use is highlighted:** The review explicitly mentions that \"brewing is a breeze,\" which is a significant positive for convenience.\n",
            "4.  **Specific positive sensory descriptions:** The reviewer goes into detail about the coffee's flavors, mentioning chocolate, caramel, and the crema produced for espresso, providing concrete evidence of a good experience.\n",
            "5.  **Overall recommendation and satisfaction:** The review concludes with a strong recommendation, stating it's \"perfect\" for certain coffee drinkers and \"a fantastic option,\" clearly indicating overall satisfaction.\u001b[0m\n",
            "\n",
            "\u001b[1m> Finished chain.\u001b[0m\n",
            "{'input': 'dark roast coffee powder', 'output': 'The sentiment of the review is **positive**.\\n\\nHere\\'s a breakdown of the top 5 reasons why:\\n\\n1.  **Highly positive language:** The review uses overwhelmingly positive adjectives and phrases such as \"rich,\" \"smoky,\" \"bold,\" \"deep,\" \"intense,\" \"satisfying,\" \"pleasant,\" \"invigorating,\" \"rich and velvety,\" and \"fantastic.\"\\n2.  **Strong endorsement of taste and aroma:** The review repeatedly praises the coffee\\'s aroma and taste, stating it \"delivers on the promise,\" is \"full-bodied,\" and has a \"long and lingering\" finish. This is a core component of a coffee review.\\n3.  **Ease of use is highlighted:** The review explicitly mentions that \"brewing is a breeze,\" which is a significant positive for convenience.\\n4.  **Specific positive sensory descriptions:** The reviewer goes into detail about the coffee\\'s flavors, mentioning chocolate, caramel, and the crema produced for espresso, providing concrete evidence of a good experience.\\n5.  **Overall recommendation and satisfaction:** The review concludes with a strong recommendation, stating it\\'s \"perfect\" for certain coffee drinkers and \"a fantastic option,\" clearly indicating overall satisfaction.'}\n"
          ]
        }
      ]
    }
  ]
}