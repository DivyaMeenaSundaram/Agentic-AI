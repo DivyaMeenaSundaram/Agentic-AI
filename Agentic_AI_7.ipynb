{
  "nbformat": 4,
  "nbformat_minor": 0,
  "metadata": {
    "colab": {
      "provenance": [],
      "authorship_tag": "ABX9TyOSyNRMrX4VpOoFyyEr2knj",
      "include_colab_link": true
    },
    "kernelspec": {
      "name": "python3",
      "display_name": "Python 3"
    },
    "language_info": {
      "name": "python"
    }
  },
  "cells": [
    {
      "cell_type": "markdown",
      "metadata": {
        "id": "view-in-github",
        "colab_type": "text"
      },
      "source": [
        "<a href=\"https://colab.research.google.com/github/DivyaMeenaSundaram/Agentic-AI/blob/main/Agentic_AI_7.ipynb\" target=\"_parent\"><img src=\"https://colab.research.google.com/assets/colab-badge.svg\" alt=\"Open In Colab\"/></a>"
      ]
    },
    {
      "cell_type": "markdown",
      "source": [
        "Sentiment Analysis"
      ],
      "metadata": {
        "id": "_neNRGjmSMf6"
      }
    },
    {
      "cell_type": "code",
      "execution_count": 1,
      "metadata": {
        "colab": {
          "base_uri": "https://localhost:8080/"
        },
        "id": "BACyan1BRoDN",
        "outputId": "4cef4244-d178-402c-c520-4b9830bffbde"
      },
      "outputs": [
        {
          "output_type": "stream",
          "name": "stdout",
          "text": [
            "\u001b[?25l   \u001b[90m━━━━━━━━━━━━━━━━━━━━━━━━━━━━━━━━━━━━━━━━\u001b[0m \u001b[32m0.0/42.0 kB\u001b[0m \u001b[31m?\u001b[0m eta \u001b[36m-:--:--\u001b[0m\r\u001b[2K   \u001b[91m━━━━━━━━━━━━━━━━━━━━━━━━━━━━━━━━━━━━━━━\u001b[0m\u001b[90m╺\u001b[0m \u001b[32m41.0/42.0 kB\u001b[0m \u001b[31m94.5 MB/s\u001b[0m eta \u001b[36m0:00:01\u001b[0m\r\u001b[2K   \u001b[90m━━━━━━━━━━━━━━━━━━━━━━━━━━━━━━━━━━━━━━━━\u001b[0m \u001b[32m42.0/42.0 kB\u001b[0m \u001b[31m862.5 kB/s\u001b[0m eta \u001b[36m0:00:00\u001b[0m\n",
            "\u001b[?25h"
          ]
        }
      ],
      "source": [
        "!pip install -q langchain langchain-google-genai google-generativeai"
      ]
    },
    {
      "cell_type": "code",
      "source": [
        "from google.colab import userdata\n",
        "import os\n",
        "import time\n",
        "from langchain_google_genai import ChatGoogleGenerativeAI\n",
        "from langchain.prompts import ChatPromptTemplate\n",
        "from langchain.chains import LLMChain\n",
        "from langchain.chains import SimpleSequentialChain\n",
        "from langchain.chains import TransformChain\n",
        "\n",
        "try:\n",
        "   GOOGLE_API_KEY = userdata.get('Divya_Key')\n",
        "   os.environ['GOOGLE_API_KEY'] = GOOGLE_API_KEY\n",
        "   llm = ChatGoogleGenerativeAI(model=\"gemini-2.0-flash-lite\", temperature=0.7) # Slightly higher temp for creativity\n",
        "   print(\"API Key loaded and LLM initialized successfully.\")\n",
        "   setup_ok = True\n",
        "except Exception as e:\n",
        "   print(f\"ERROR: Could not load API key or initialize LLM. {e}\")\n",
        "   print(\"Please ensure GOOGLE_API_KEY is set in Colab Secrets.\")\n",
        "   setup_ok = False"
      ],
      "metadata": {
        "colab": {
          "base_uri": "https://localhost:8080/"
        },
        "id": "_XPKS7_5RrEK",
        "outputId": "49b8af9d-34ca-4796-ae30-8d5198ff0b4a"
      },
      "execution_count": 3,
      "outputs": [
        {
          "output_type": "stream",
          "name": "stdout",
          "text": [
            "API Key loaded and LLM initialized successfully.\n"
          ]
        }
      ]
    },
    {
      "cell_type": "code",
      "source": [
        "chain1_template_text = \"\"\"\n",
        "You are an expert product reviewer.\n",
        "Given the product name: \"{topic}\", generate a comprehensive review of the product.\n",
        "The review can be only positive or negative or neutral. give more positive or negative reviews than neutral ones. Do not explicitly mention if it is positive, negative or neutral.\n",
        "\"\"\"\n",
        "chain1_prompt = ChatPromptTemplate.from_template(chain1_template_text)\n",
        "chain1 = LLMChain(llm=llm, prompt=chain1_prompt)\n",
        "print(\"Chain 1 created.\")\n",
        "\n",
        "\n",
        "chain2_template_text = \"\"\"\n",
        "Given a product review \"{blog_post_idea}\",\n",
        "perform sentiment analysis of the review. Categorize it as positive, negative, or neutral.\n",
        "Give a list of top 5 short reasons why the review is so.\n",
        "\"\"\"\n",
        "chain2_prompt = ChatPromptTemplate.from_template(chain2_template_text)\n",
        "chain2 = LLMChain(llm=llm, prompt=chain2_prompt)\n",
        "print(\"Chain 2 created.\")\n",
        "\n",
        "\n",
        "def delay_function(inputs):\n",
        "      \"\"\"This function pauses execution and then passes the input through.\"\"\"\n",
        "      print(\"\\n--- Pausing for 5s to avoid rate limiting... ---\")\n",
        "      time.sleep(5)\n",
        "      return inputs\n",
        "\n",
        "\n",
        "delay_chain = TransformChain(\n",
        "      input_variables=[\"blog_post_idea\"],\n",
        "      output_variables=[\"blog_post_idea\"],\n",
        "      transform=delay_function\n",
        ")\n",
        "print(\"Delay Chain created.\")\n",
        "\n",
        "\n",
        "overall_chain = SimpleSequentialChain(\n",
        "  chains=[chain1, delay_chain, chain2],\n",
        "  verbose=True\n",
        ")\n",
        "\n",
        "\n",
        "print(\"Overall SimpleSequentialChain created with a chain 1, delay, chain2.\")"
      ],
      "metadata": {
        "colab": {
          "base_uri": "https://localhost:8080/"
        },
        "id": "WY_D5sLUR20z",
        "outputId": "04b2a618-7ff1-4a78-b68d-8fadb60d6b41"
      },
      "execution_count": 5,
      "outputs": [
        {
          "output_type": "stream",
          "name": "stdout",
          "text": [
            "Chain 1 created.\n",
            "Chain 2 created.\n",
            "Delay Chain created.\n",
            "Overall SimpleSequentialChain created with a chain 1, delay, chain2.\n"
          ]
        }
      ]
    },
    {
      "cell_type": "code",
      "source": [
        "# --- Run the Overall Chain ---\n",
        "input_topic = \"dark roast coffee powder\"\n",
        "final_response = overall_chain.invoke(input_topic)\n",
        "print(final_response)"
      ],
      "metadata": {
        "colab": {
          "base_uri": "https://localhost:8080/"
        },
        "id": "5bpg2mGCSzEZ",
        "outputId": "c8887347-7db9-437c-e9dd-0ac95b7ba765"
      },
      "execution_count": 6,
      "outputs": [
        {
          "output_type": "stream",
          "name": "stdout",
          "text": [
            "\n",
            "\n",
            "\u001b[1m> Entering new SimpleSequentialChain chain...\u001b[0m\n",
            "\u001b[36;1m\u001b[1;3mHere's a review of \"Dark Roast Coffee Powder\":\n",
            "\n",
            "The aroma that bursts forth upon opening the bag is intoxicating. A rich, smoky scent, hinting at the depth of flavor to come, immediately fills the air. The powder itself is finely ground, a testament to quality processing, and dissolves readily in hot water.\n",
            "\n",
            "Brewing this coffee is a simple pleasure. The resulting cup is a deep, inky black, promising a bold experience. The initial sip confirms this promise. A robust, full-bodied flavor profile dominates, with notes of dark chocolate and a hint of caramel sweetness. The bitterness is present, as expected with a dark roast, but it's well-balanced and doesn't overwhelm the palate. The coffee delivers a satisfying, lingering finish that leaves a pleasant warmth.\n",
            "\n",
            "The caffeine kick is noticeable and provides a welcome boost, perfect for starting the day or powering through an afternoon slump. It performs admirably across various brewing methods, from French press to drip coffee makers. The consistency of the flavor, cup after cup, is also commendable, showcasing the care taken in both sourcing and roasting. This is a coffee that clearly understands its purpose: to deliver a consistently rich and satisfying experience. It’s a true dark roast, offering everything you'd hope for.\u001b[0m\n",
            "\n",
            "--- Pausing for 5s to avoid rate limiting... ---\n",
            "\u001b[33;1m\u001b[1;3mHere's a review of \"Dark Roast Coffee Powder\":\n",
            "\n",
            "The aroma that bursts forth upon opening the bag is intoxicating. A rich, smoky scent, hinting at the depth of flavor to come, immediately fills the air. The powder itself is finely ground, a testament to quality processing, and dissolves readily in hot water.\n",
            "\n",
            "Brewing this coffee is a simple pleasure. The resulting cup is a deep, inky black, promising a bold experience. The initial sip confirms this promise. A robust, full-bodied flavor profile dominates, with notes of dark chocolate and a hint of caramel sweetness. The bitterness is present, as expected with a dark roast, but it's well-balanced and doesn't overwhelm the palate. The coffee delivers a satisfying, lingering finish that leaves a pleasant warmth.\n",
            "\n",
            "The caffeine kick is noticeable and provides a welcome boost, perfect for starting the day or powering through an afternoon slump. It performs admirably across various brewing methods, from French press to drip coffee makers. The consistency of the flavor, cup after cup, is also commendable, showcasing the care taken in both sourcing and roasting. This is a coffee that clearly understands its purpose: to deliver a consistently rich and satisfying experience. It’s a true dark roast, offering everything you'd hope for.\u001b[0m\n",
            "\u001b[38;5;200m\u001b[1;3mThe sentiment of the review is **positive**.\n",
            "\n",
            "Here are the top 5 reasons why:\n",
            "\n",
            "1.  **Enthusiastic Language:** The review uses highly positive and descriptive language, such as \"intoxicating,\" \"rich,\" \"satisfying,\" \"commendable,\" and \"welcome boost.\"\n",
            "2.  **Positive Sensory Descriptions:** The review focuses on the pleasurable aspects of the coffee's aroma, flavor, and finish, using words like \"smoky,\" \"bold,\" \"robust,\" \"dark chocolate,\" \"caramel sweetness,\" and \"pleasant warmth.\"\n",
            "3.  **Emphasis on Quality and Consistency:** The reviewer highlights the quality of the processing (\"finely ground\"), the consistency of the flavor, and the care taken in sourcing and roasting.\n",
            "4.  **Favorable Comparison to Expectations:** The review confirms the promises made by the coffee's appearance, stating that the experience \"confirms this promise\" and delivers \"everything you'd hope for.\"\n",
            "5.  **Overall Satisfaction and Recommendation:** The review concludes with a statement of overall satisfaction and a clear endorsement of the coffee, calling it a \"true dark roast\" and one that \"clearly understands its purpose.\"\u001b[0m\n",
            "\n",
            "\u001b[1m> Finished chain.\u001b[0m\n",
            "{'input': 'dark roast coffee powder', 'output': 'The sentiment of the review is **positive**.\\n\\nHere are the top 5 reasons why:\\n\\n1.  **Enthusiastic Language:** The review uses highly positive and descriptive language, such as \"intoxicating,\" \"rich,\" \"satisfying,\" \"commendable,\" and \"welcome boost.\"\\n2.  **Positive Sensory Descriptions:** The review focuses on the pleasurable aspects of the coffee\\'s aroma, flavor, and finish, using words like \"smoky,\" \"bold,\" \"robust,\" \"dark chocolate,\" \"caramel sweetness,\" and \"pleasant warmth.\"\\n3.  **Emphasis on Quality and Consistency:** The reviewer highlights the quality of the processing (\"finely ground\"), the consistency of the flavor, and the care taken in sourcing and roasting.\\n4.  **Favorable Comparison to Expectations:** The review confirms the promises made by the coffee\\'s appearance, stating that the experience \"confirms this promise\" and delivers \"everything you\\'d hope for.\"\\n5.  **Overall Satisfaction and Recommendation:** The review concludes with a statement of overall satisfaction and a clear endorsement of the coffee, calling it a \"true dark roast\" and one that \"clearly understands its purpose.\"'}\n"
          ]
        }
      ]
    }
  ]
}