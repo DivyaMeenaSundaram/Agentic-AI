{
  "nbformat": 4,
  "nbformat_minor": 0,
  "metadata": {
    "colab": {
      "provenance": [],
      "authorship_tag": "ABX9TyM03bOl2ugI9w4zCk1HHhJg",
      "include_colab_link": true
    },
    "kernelspec": {
      "name": "python3",
      "display_name": "Python 3"
    },
    "language_info": {
      "name": "python"
    }
  },
  "cells": [
    {
      "cell_type": "markdown",
      "metadata": {
        "id": "view-in-github",
        "colab_type": "text"
      },
      "source": [
        "<a href=\"https://colab.research.google.com/github/DivyaMeenaSundaram/Agentic-AI/blob/main/Agentic_AI_5.ipynb\" target=\"_parent\"><img src=\"https://colab.research.google.com/assets/colab-badge.svg\" alt=\"Open In Colab\"/></a>"
      ]
    },
    {
      "cell_type": "markdown",
      "source": [
        "Translator program"
      ],
      "metadata": {
        "id": "o6fU253C0HZV"
      }
    },
    {
      "cell_type": "code",
      "execution_count": 1,
      "metadata": {
        "colab": {
          "base_uri": "https://localhost:8080/"
        },
        "id": "GEV8KYFiyt1X",
        "outputId": "d0de004a-fb49-4f42-beb6-e8a81f411c22"
      },
      "outputs": [
        {
          "output_type": "stream",
          "name": "stdout",
          "text": [
            "\u001b[?25l   \u001b[90m━━━━━━━━━━━━━━━━━━━━━━━━━━━━━━━━━━━━━━━━\u001b[0m \u001b[32m0.0/42.0 kB\u001b[0m \u001b[31m?\u001b[0m eta \u001b[36m-:--:--\u001b[0m\r\u001b[2K   \u001b[90m━━━━━━━━━━━━━━━━━━━━━━━━━━━━━━━━━━━━━━━━\u001b[0m \u001b[32m42.0/42.0 kB\u001b[0m \u001b[31m2.2 MB/s\u001b[0m eta \u001b[36m0:00:00\u001b[0m\n",
            "\u001b[?25h"
          ]
        }
      ],
      "source": [
        "!pip install -q langchain langchain-google-genai google-generativeai"
      ]
    },
    {
      "cell_type": "code",
      "source": [
        "from google.colab import userdata\n",
        "import os\n",
        "from langchain_google_genai import ChatGoogleGenerativeAI\n",
        "from langchain.prompts import ChatPromptTemplate\n",
        "from langchain.chains import LLMChain # The basic building block chain\n"
      ],
      "metadata": {
        "id": "66IUAoyDzIUC"
      },
      "execution_count": 2,
      "outputs": []
    },
    {
      "cell_type": "code",
      "source": [
        "# Load API Key and Initialize LLM\n",
        "try:\n",
        "    GOOGLE_API_KEY = userdata.get('Divya_Key')\n",
        "    os.environ['GOOGLE_API_KEY'] = GOOGLE_API_KEY\n",
        "    # Initialize with a low temperature for more predictable translations\n",
        "    llm = ChatGoogleGenerativeAI(model=\"gemini-2.0-flash-lite\", temperature=0.3)\n",
        "    print(\"API Key loaded and LLM initialized successfully.\")\n",
        "    setup_ok = True\n",
        "except Exception as e:\n",
        "    print(f\"ERROR: Could not load API key or initialize LLM. {e}\")\n",
        "    print(\"Please ensure GOOGLE_API_KEY is set in Colab Secrets.\")\n",
        "    setup_ok = False\n"
      ],
      "metadata": {
        "colab": {
          "base_uri": "https://localhost:8080/"
        },
        "id": "agjqXQ-FzK0W",
        "outputId": "62d0d1df-6067-40be-81bb-de5828b05d7f"
      },
      "execution_count": 3,
      "outputs": [
        {
          "output_type": "stream",
          "name": "stdout",
          "text": [
            "API Key loaded and LLM initialized successfully.\n"
          ]
        }
      ]
    },
    {
      "cell_type": "code",
      "source": [
        "prompt_template_text = \"\"\"\n",
        "Translate the following text into {target_language}.\n",
        "Your response should ONLY contain the translated text, nothing else.\n",
        "\n",
        "\n",
        "Text:\n",
        "\"{text_to_translate}\"\n",
        "\n",
        "\n",
        "Translation:\n",
        "\"\"\"\n",
        "\n",
        "\n",
        "prompt = ChatPromptTemplate.from_template(prompt_template_text)\n",
        "print(\"Prompt Template created.\")\n"
      ],
      "metadata": {
        "colab": {
          "base_uri": "https://localhost:8080/"
        },
        "id": "8I-5D6ILzKsz",
        "outputId": "c674888a-0a9f-4e5b-b161-065f3324d3ec"
      },
      "execution_count": 4,
      "outputs": [
        {
          "output_type": "stream",
          "name": "stdout",
          "text": [
            "Prompt Template created.\n"
          ]
        }
      ]
    },
    {
      "cell_type": "code",
      "source": [
        "# 2. Create the LLMChain\n",
        "# This chain links our prompt template with our Gemini LLM.\n",
        "translation_chain = LLMChain(llm=llm, prompt=prompt)\n",
        "print(\"Translation Chain created.\")"
      ],
      "metadata": {
        "colab": {
          "base_uri": "https://localhost:8080/"
        },
        "id": "p1bUUpt1zTRl",
        "outputId": "555f1c8a-b068-4378-ed52-e3d847eddecb"
      },
      "execution_count": 5,
      "outputs": [
        {
          "output_type": "stream",
          "name": "stdout",
          "text": [
            "Translation Chain created.\n"
          ]
        },
        {
          "output_type": "stream",
          "name": "stderr",
          "text": [
            "/tmp/ipython-input-5-2767212592.py:3: LangChainDeprecationWarning: The class `LLMChain` was deprecated in LangChain 0.1.17 and will be removed in 1.0. Use :meth:`~RunnableSequence, e.g., `prompt | llm`` instead.\n",
            "  translation_chain = LLMChain(llm=llm, prompt=prompt)\n"
          ]
        }
      ]
    },
    {
      "cell_type": "code",
      "source": [
        "# 3. Run the Chain with Examples\n",
        "text_to_translate_1 = \"LangChain helps developers build amazing AI applications.\"\n",
        "target_language_1 = \"German\""
      ],
      "metadata": {
        "id": "E0AMevUZzYuo"
      },
      "execution_count": 6,
      "outputs": []
    },
    {
      "cell_type": "code",
      "source": [
        "# Example 1\n",
        "print(f\"\\n--- Translating to {target_language_1} ---\")\n",
        "print(f\"Input: {text_to_translate_1}\")\n",
        "response1 = translation_chain.invoke({\n",
        "    \"text_to_translate\": text_to_translate_1,\n",
        "    \"target_language\": target_language_1\n",
        "})\n",
        "\n",
        "\n",
        "print(f\"Output: {response1['text']}\") # LLMChain puts the result in the 'text' key\n"
      ],
      "metadata": {
        "colab": {
          "base_uri": "https://localhost:8080/"
        },
        "id": "60xK-MfPzdJz",
        "outputId": "d46c96f4-e8ea-46ce-9cd3-c9a9fa64c420"
      },
      "execution_count": 7,
      "outputs": [
        {
          "output_type": "stream",
          "name": "stdout",
          "text": [
            "\n",
            "--- Translating to German ---\n",
            "Input: LangChain helps developers build amazing AI applications.\n",
            "Output: LangChain hilft Entwicklern, großartige KI-Anwendungen zu erstellen.\n"
          ]
        }
      ]
    },
    {
      "cell_type": "code",
      "source": [
        "text_to_translate_2 = \"What time is it in Vellore, India?\"\n",
        "target_language_2 = \"Tamil\"\n",
        "\n",
        "\n",
        "# Example 2\n",
        "\n",
        "\n",
        "print(f\"\\n--- Translating to {target_language_2} ---\")\n",
        "print(f\"Input: {text_to_translate_2}\")\n",
        "response2 = translation_chain.invoke({\n",
        "  \"text_to_translate\": text_to_translate_2,\n",
        "  \"target_language\": target_language_2\n",
        "})\n",
        "print(f\"Output: {response2['text']}\")\n"
      ],
      "metadata": {
        "colab": {
          "base_uri": "https://localhost:8080/"
        },
        "id": "yjIwsqEHzfxt",
        "outputId": "57600169-d702-45fb-f92d-a4f3b9697b7b"
      },
      "execution_count": 8,
      "outputs": [
        {
          "output_type": "stream",
          "name": "stdout",
          "text": [
            "\n",
            "--- Translating to Tamil ---\n",
            "Input: What time is it in Vellore, India?\n",
            "Output: \"இந்தியாவில் வேலூரில் இப்போது என்ன நேரம்?\"\n"
          ]
        }
      ]
    }
  ]
}