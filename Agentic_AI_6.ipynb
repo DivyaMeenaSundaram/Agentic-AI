{
  "nbformat": 4,
  "nbformat_minor": 0,
  "metadata": {
    "colab": {
      "provenance": [],
      "authorship_tag": "ABX9TyPIHZh3j46aHhaqTNFYEjVo",
      "include_colab_link": true
    },
    "kernelspec": {
      "name": "python3",
      "display_name": "Python 3"
    },
    "language_info": {
      "name": "python"
    }
  },
  "cells": [
    {
      "cell_type": "markdown",
      "metadata": {
        "id": "view-in-github",
        "colab_type": "text"
      },
      "source": [
        "<a href=\"https://colab.research.google.com/github/DivyaMeenaSundaram/Agentic-AI/blob/main/Agentic_AI_6.ipynb\" target=\"_parent\"><img src=\"https://colab.research.google.com/assets/colab-badge.svg\" alt=\"Open In Colab\"/></a>"
      ]
    },
    {
      "cell_type": "markdown",
      "source": [
        "Simple sequential chain program"
      ],
      "metadata": {
        "id": "xundT1zZ2-PS"
      }
    },
    {
      "cell_type": "code",
      "execution_count": 1,
      "metadata": {
        "colab": {
          "base_uri": "https://localhost:8080/"
        },
        "id": "g1Chf1GY0mrT",
        "outputId": "f95e31c0-253c-4cae-d5ea-16d0a8f58a25"
      },
      "outputs": [
        {
          "output_type": "stream",
          "name": "stdout",
          "text": [
            "\u001b[?25l   \u001b[90m━━━━━━━━━━━━━━━━━━━━━━━━━━━━━━━━━━━━━━━━\u001b[0m \u001b[32m0.0/42.0 kB\u001b[0m \u001b[31m?\u001b[0m eta \u001b[36m-:--:--\u001b[0m\r\u001b[2K   \u001b[90m━━━━━━━━━━━━━━━━━━━━━━━━━━━━━━━━━━━━━━━━\u001b[0m \u001b[32m42.0/42.0 kB\u001b[0m \u001b[31m1.8 MB/s\u001b[0m eta \u001b[36m0:00:00\u001b[0m\n",
            "\u001b[?25h"
          ]
        }
      ],
      "source": [
        "!pip install -q langchain langchain-google-genai google-generativeai"
      ]
    },
    {
      "cell_type": "code",
      "source": [
        "from google.colab import userdata\n",
        "import os\n",
        "import time\n",
        "from langchain_google_genai import ChatGoogleGenerativeAI\n",
        "from langchain.prompts import ChatPromptTemplate\n",
        "from langchain.chains import LLMChain\n",
        "from langchain.chains import SimpleSequentialChain # Import SimpleSequentialChain"
      ],
      "metadata": {
        "id": "XcILvjNF3fsH"
      },
      "execution_count": 2,
      "outputs": []
    },
    {
      "cell_type": "code",
      "source": [
        "# Load API Key and Initialize LLM\n",
        "try:\n",
        "    GOOGLE_API_KEY = userdata.get('Divya_Key')\n",
        "    os.environ['GOOGLE_API_KEY'] = GOOGLE_API_KEY\n",
        "    llm = ChatGoogleGenerativeAI(model=\"gemini-2.0-flash-lite\", temperature=0.7) # Slightly higher temp for creativity\n",
        "    print(\"API Key loaded and LLM initialized successfully.\")\n",
        "    setup_ok = True\n",
        "except Exception as e:\n",
        "    print(f\"ERROR: Could not load API key or initialize LLM. {e}\")\n",
        "    print(\"Please ensure GOOGLE_API_KEY is set in Colab Secrets.\")\n",
        "    setup_ok = False\n"
      ],
      "metadata": {
        "colab": {
          "base_uri": "https://localhost:8080/"
        },
        "id": "t4tWZtk83rqt",
        "outputId": "09521421-0b90-42b6-a560-6fb3f67496cc"
      },
      "execution_count": 4,
      "outputs": [
        {
          "output_type": "stream",
          "name": "stdout",
          "text": [
            "API Key loaded and LLM initialized successfully.\n"
          ]
        }
      ]
    },
    {
      "cell_type": "code",
      "source": [
        "# --- Chain 1: Blog Post Idea Generator ---\n",
        "idea_prompt_template_text = \"\"\"\n",
        "You are an expert blog post idea generator.\n",
        "Given the topic: \"{topic}\", generate a compelling and unique blog post idea. The idea should be concise, about 2 to 3 sentences.\n",
        "\n",
        "\n",
        "Blog Post Idea:\n",
        "\"\"\"\n",
        "idea_prompt = ChatPromptTemplate.from_template(idea_prompt_template_text)\n",
        "idea_chain = LLMChain(llm=llm, prompt=idea_prompt)\n",
        "print(\"Blog Post Idea Chain created.\")\n"
      ],
      "metadata": {
        "colab": {
          "base_uri": "https://localhost:8080/"
        },
        "id": "9jeJoBuB5awX",
        "outputId": "c7e8c294-349e-4ab2-b8d7-c560f62282f9"
      },
      "execution_count": 5,
      "outputs": [
        {
          "output_type": "stream",
          "name": "stdout",
          "text": [
            "Blog Post Idea Chain created.\n"
          ]
        },
        {
          "output_type": "stream",
          "name": "stderr",
          "text": [
            "/tmp/ipython-input-5-4026719895.py:10: LangChainDeprecationWarning: The class `LLMChain` was deprecated in LangChain 0.1.17 and will be removed in 1.0. Use :meth:`~RunnableSequence, e.g., `prompt | llm`` instead.\n",
            "  idea_chain = LLMChain(llm=llm, prompt=idea_prompt)\n"
          ]
        }
      ]
    },
    {
      "cell_type": "code",
      "source": [
        "# --- Chain 2: Catchy Title Generator ---\n",
        "title_prompt_template_text = \"\"\"\n",
        "You are an expert copywriter specializing in catchy blog post titles.\n",
        "Based on the following blog post idea:\n",
        "\"{blog_post_idea}\"\n",
        "Please generate 3-5 catchy and click-worthy titles for this blog post.\n",
        "Each title should be on a new line.\n",
        "Catchy Titles:\n",
        "\"\"\"\n",
        "title_prompt = ChatPromptTemplate.from_template(title_prompt_template_text)\n",
        "title_chain = LLMChain(llm=llm, prompt=title_prompt)\n",
        "print(\"Catchy Title Chain created.\")\n"
      ],
      "metadata": {
        "colab": {
          "base_uri": "https://localhost:8080/"
        },
        "id": "2flLkN0p5dow",
        "outputId": "39f2f329-5e5e-4bb0-8c09-6bca48fd15b5"
      },
      "execution_count": 6,
      "outputs": [
        {
          "output_type": "stream",
          "name": "stdout",
          "text": [
            "Catchy Title Chain created.\n"
          ]
        }
      ]
    },
    {
      "cell_type": "code",
      "source": [
        "# --- Create the SimpleSequentialChain ---\n",
        "overall_chain = SimpleSequentialChain(\n",
        "    chains=[idea_chain, title_chain],\n",
        "    verbose=True\n",
        ")\n",
        "print(\"Overall SimpleSequentialChain created.\")"
      ],
      "metadata": {
        "colab": {
          "base_uri": "https://localhost:8080/"
        },
        "id": "zeaxGOu35gsX",
        "outputId": "90cd086f-b4fb-4db6-9ff6-96d1404403eb"
      },
      "execution_count": 7,
      "outputs": [
        {
          "output_type": "stream",
          "name": "stdout",
          "text": [
            "Overall SimpleSequentialChain created.\n"
          ]
        }
      ]
    },
    {
      "cell_type": "code",
      "source": [
        "# --- Run the Overall Chain ---\n",
        "input_topic = \"the impact of generative AI on education\"\n",
        "print(f\"\\nGenerating ideas and titles for topic: '{input_topic}'\")\n",
        "\n",
        "\n",
        "final_response = overall_chain.invoke(input_topic)\n",
        "print(\"\\n--- Final Output (Catchy Titles) ---\")\n",
        "print(final_response)"
      ],
      "metadata": {
        "colab": {
          "base_uri": "https://localhost:8080/"
        },
        "id": "MrdANu8J5jzb",
        "outputId": "609e1f26-fd9e-4b28-f7d0-b7479df7cbd6"
      },
      "execution_count": 10,
      "outputs": [
        {
          "output_type": "stream",
          "name": "stdout",
          "text": [
            "\n",
            "Generating ideas and titles for topic: 'the impact of generative AI on education'\n",
            "\n",
            "\n",
            "\u001b[1m> Entering new SimpleSequentialChain chain...\u001b[0m\n",
            "\u001b[36;1m\u001b[1;3m**Blog Post Idea:** Explore how generative AI can personalize education by creating dynamic learning paths tailored to individual student needs and learning styles, moving away from the traditional one-size-fits-all approach. This post will delve into specific AI-powered tools and platforms, showcasing their potential to revolutionize curriculum design and assessment.\u001b[0m\n",
            "\u001b[33;1m\u001b[1;3mHere are 5 catchy and click-worthy titles for your blog post:\n",
            "\n",
            "AI-Powered Education: The Future of Personalized Learning is Here\n",
            "\n",
            "Goodbye One-Size-Fits-All: How Generative AI is Revolutionizing Education\n",
            "\n",
            "Unlock Student Potential: Tailoring Education with AI for Maximum Impact\n",
            "\n",
            "From Static to Dynamic: Generative AI Creates Personalized Learning Paths\n",
            "\n",
            "The AI Classroom: Building the Future of Education, One Student at a Time\u001b[0m\n",
            "\n",
            "\u001b[1m> Finished chain.\u001b[0m\n",
            "\n",
            "--- Final Output (Catchy Titles) ---\n",
            "{'input': 'the impact of generative AI on education', 'output': 'Here are 5 catchy and click-worthy titles for your blog post:\\n\\nAI-Powered Education: The Future of Personalized Learning is Here\\n\\nGoodbye One-Size-Fits-All: How Generative AI is Revolutionizing Education\\n\\nUnlock Student Potential: Tailoring Education with AI for Maximum Impact\\n\\nFrom Static to Dynamic: Generative AI Creates Personalized Learning Paths\\n\\nThe AI Classroom: Building the Future of Education, One Student at a Time'}\n"
          ]
        }
      ]
    }
  ]
}