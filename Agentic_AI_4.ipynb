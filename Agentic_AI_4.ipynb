{
  "nbformat": 4,
  "nbformat_minor": 0,
  "metadata": {
    "colab": {
      "provenance": [],
      "authorship_tag": "ABX9TyN8uJmD59EKkj6l5TFMAAMV",
      "include_colab_link": true
    },
    "kernelspec": {
      "name": "python3",
      "display_name": "Python 3"
    },
    "language_info": {
      "name": "python"
    }
  },
  "cells": [
    {
      "cell_type": "markdown",
      "metadata": {
        "id": "view-in-github",
        "colab_type": "text"
      },
      "source": [
        "<a href=\"https://colab.research.google.com/github/DivyaMeenaSundaram/Agentic-AI/blob/main/Agentic_AI_4.ipynb\" target=\"_parent\"><img src=\"https://colab.research.google.com/assets/colab-badge.svg\" alt=\"Open In Colab\"/></a>"
      ]
    },
    {
      "cell_type": "code",
      "execution_count": 1,
      "metadata": {
        "colab": {
          "base_uri": "https://localhost:8080/"
        },
        "id": "YOhJTEQGpJRZ",
        "outputId": "e74e2dd2-aed7-4a57-8dc8-45aecddb2a52"
      },
      "outputs": [
        {
          "output_type": "stream",
          "name": "stdout",
          "text": [
            "\u001b[?25l   \u001b[90m━━━━━━━━━━━━━━━━━━━━━━━━━━━━━━━━━━━━━━━━\u001b[0m \u001b[32m0.0/42.0 kB\u001b[0m \u001b[31m?\u001b[0m eta \u001b[36m-:--:--\u001b[0m\r\u001b[2K   \u001b[90m━━━━━━━━━━━━━━━━━━━━━━━━━━━━━━━━━━━━━━━━\u001b[0m \u001b[32m42.0/42.0 kB\u001b[0m \u001b[31m2.6 MB/s\u001b[0m eta \u001b[36m0:00:00\u001b[0m\n",
            "\u001b[?25h"
          ]
        }
      ],
      "source": [
        "!pip install -q langchain langchain-google-genai google-generativeai"
      ]
    },
    {
      "cell_type": "code",
      "source": [
        "from google.colab import userdata\n",
        "import os\n",
        "from langchain_google_genai import ChatGoogleGenerativeAI\n",
        "from langchain_core.messages import HumanMessage"
      ],
      "metadata": {
        "id": "gLOIAZ3pprbx"
      },
      "execution_count": 2,
      "outputs": []
    },
    {
      "cell_type": "code",
      "source": [
        "# Securely get the API key from Colab secrets\n",
        "try:\n",
        "   GOOGLE_API_KEY = userdata.get('Divya_Key')\n",
        "   print(\"Google API Key loaded successfully from Colab Secrets.\")\n",
        "except Exception as e:\n",
        "   print(f\"An error occurred while retrieving the API key: {e}\")"
      ],
      "metadata": {
        "colab": {
          "base_uri": "https://localhost:8080/"
        },
        "id": "VqzdZCgfpu-p",
        "outputId": "df2152ad-3e88-428c-9507-ee55ce6245bd"
      },
      "execution_count": 4,
      "outputs": [
        {
          "output_type": "stream",
          "name": "stdout",
          "text": [
            "Google API Key loaded successfully from Colab Secrets.\n"
          ]
        }
      ]
    },
    {
      "cell_type": "code",
      "source": [
        "# Step 3: Make a Basic Call\n",
        "try:\n",
        "   # Initialize the ChatGoogleGenerativeAI model\n",
        "   llm = ChatGoogleGenerativeAI(\n",
        "       model=\"gemini-2.0-flash-lite\",\n",
        "       google_api_key=GOOGLE_API_KEY,\n",
        "       temperature=0.2,\n",
        "       max_tokens=1000)\n",
        "\n",
        "\n",
        "   # Create a simple prompt\n",
        "   message = HumanMessage(\n",
        "       content=\"Explain how Agebtic AI is different from ChatGPT. Also, explain how Agentic AI be used in Academic and research\"\n",
        "   )\n",
        "\n",
        "\n",
        "   # Invoke the model\n",
        "   print(\"\\nSending prompt to Gemini...\")\n",
        "   response = llm.invoke([message])\n",
        "\n",
        "\n",
        "   # Print the response\n",
        "   print(\"\\nGemini's Response:\")\n",
        "   print(response.content)\n",
        "\n",
        "\n",
        "except Exception as e:\n",
        "   print(f\"An error occurred while interacting with Gemini: {e}\")\n"
      ],
      "metadata": {
        "colab": {
          "base_uri": "https://localhost:8080/"
        },
        "collapsed": true,
        "id": "nS-Yc3Xyp7kG",
        "outputId": "b1bd3cf0-8e5b-4fd8-f56a-1712f8865c06"
      },
      "execution_count": 7,
      "outputs": [
        {
          "output_type": "stream",
          "name": "stdout",
          "text": [
            "\n",
            "Sending prompt to Gemini...\n",
            "\n",
            "Gemini's Response:\n",
            "## Agentic AI vs. ChatGPT: Key Differences\n",
            "\n",
            "Both Agentic AI and ChatGPT are built on the foundation of large language models (LLMs), but they differ significantly in their capabilities and architecture. Here's a breakdown:\n",
            "\n",
            "**ChatGPT (and similar chatbots):**\n",
            "\n",
            "*   **Focus:** Primarily designed for **conversational interaction and text generation**.\n",
            "*   **Architecture:**  Typically a single, large LLM trained on a massive dataset of text and code.\n",
            "*   **Functionality:**\n",
            "    *   Responds to prompts and questions.\n",
            "    *   Generates text in various styles (e.g., poems, code, summaries).\n",
            "    *   Can translate languages.\n",
            "    *   Limited ability to interact with the external world or perform complex tasks.\n",
            "*   **Limitations:**\n",
            "    *   **Lack of agency:**  It doesn't initiate actions or make decisions independently. It's reactive, responding only to user input.\n",
            "    *   **Limited memory:**  Its context window (the amount of information it can remember) is finite, leading to potential loss of information in long conversations.\n",
            "    *   **No access to real-time information:**  It relies on the data it was trained on, which can be outdated.\n",
            "    *   **Struggles with complex, multi-step tasks:**  It can be difficult to guide it through a series of actions to achieve a specific goal.\n",
            "\n",
            "**Agentic AI (also known as Autonomous AI or AI Agents):**\n",
            "\n",
            "*   **Focus:** Designed to **autonomously achieve goals** by interacting with the world, making decisions, and taking actions.\n",
            "*   **Architecture:**  Often involves a combination of components:\n",
            "    *   **LLM (the \"brain\"):**  Provides the core language understanding and generation capabilities.\n",
            "    *   **Planning and Reasoning Module:**  Breaks down goals into sub-tasks, plans actions, and evaluates progress.\n",
            "    *   **Action Execution Module:**  Interacts with external tools, APIs, or environments to perform actions (e.g., search the web, send emails, control robots).\n",
            "    *   **Memory and Knowledge Base:**  Stores information, learns from experience, and maintains context over time.\n",
            "    *   **Perception and Observation:**  Gathers information from the environment (e.g., sensor data, web search results).\n",
            "*   **Functionality:**\n",
            "    *   **Goal-oriented behavior:**  Can be given a high-level goal and work towards achieving it.\n",
            "    *   **Autonomous decision-making:**  Chooses actions based on its understanding of the situation and its goals.\n",
            "    *   **Interaction with the external world:**  Can use tools and APIs to gather information, perform tasks, and interact with other systems.\n",
            "    *   **Learning and adaptation:**  Can improve its performance over time through feedback and experience.\n",
            "*   **Advantages over ChatGPT:**\n",
            "    *   **Agency and autonomy:**  Can initiate actions and work towards goals without constant user input.\n",
            "    *   **Long-term memory:**  Can retain information and context over extended periods.\n",
            "    *   **Access to real-time information:**  Can use tools to access up-to-date data.\n",
            "    *   **Ability to handle complex tasks:**  Can break down complex problems into manageable steps and execute them.\n",
            "\n",
            "**In essence, Agentic AI is a more sophisticated and capable form of AI than ChatGPT. It's designed to be a proactive, autonomous problem-solver, while ChatGPT is primarily a conversational tool.**\n",
            "\n",
            "## Agentic AI in Academia and Research: Potential Applications\n",
            "\n",
            "Agentic AI has the potential to revolutionize academic and research activities in numerous ways:\n",
            "\n",
            "**1. Research Assistance and Discovery:**\n",
            "\n",
            "*   **Literature Review and Synthesis:**  Agents can automatically search databases, read research papers, summarize findings, and identify relevant connections between different studies. This can significantly speed up the literature review process.\n",
            "*   **Hypothesis Generation:**  By analyzing existing data and research, agents can suggest new hypotheses and research directions.\n",
            "*   **Data Analysis and Interpretation:**  Agents can analyze large datasets, identify patterns, and generate insights, potentially uncovering hidden relationships that humans might miss.\n",
            "*   **Experiment Design and Optimization:**  Agents can assist in designing experiments, optimizing parameters, and suggesting modifications to improve results.\n",
            "*   **Automated Data Collection:**  Agents can be programmed to collect data from various sources, such as sensors, online databases, and social media, automating data gathering tasks.\n",
            "\n",
            "**2. Scientific Workflow Automation:**\n",
            "\n",
            "*   **Automated Lab Assistants:**  Agents can control laboratory equipment, perform experiments, and monitor processes, freeing up researchers' time for more complex tasks.\n",
            "*   **Code Generation and Debugging:**  Agents can assist in\n"
          ]
        }
      ]
    }
  ]
}