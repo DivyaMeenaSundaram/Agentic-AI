{
  "nbformat": 4,
  "nbformat_minor": 0,
  "metadata": {
    "colab": {
      "provenance": [],
      "authorship_tag": "ABX9TyOk/DSZpTxThX0zL96ps7W/",
      "include_colab_link": true
    },
    "kernelspec": {
      "name": "python3",
      "display_name": "Python 3"
    },
    "language_info": {
      "name": "python"
    }
  },
  "cells": [
    {
      "cell_type": "markdown",
      "metadata": {
        "id": "view-in-github",
        "colab_type": "text"
      },
      "source": [
        "<a href=\"https://colab.research.google.com/github/DivyaMeenaSundaram/Agentic-AI/blob/main/Agentic_AI_11.ipynb\" target=\"_parent\"><img src=\"https://colab.research.google.com/assets/colab-badge.svg\" alt=\"Open In Colab\"/></a>"
      ]
    },
    {
      "cell_type": "markdown",
      "source": [
        "Current Weather: https://wttr.in"
      ],
      "metadata": {
        "id": "EAAqW1Wmkrp-"
      }
    },
    {
      "cell_type": "code",
      "execution_count": 1,
      "metadata": {
        "colab": {
          "base_uri": "https://localhost:8080/"
        },
        "id": "kl7TWF3aeyOm",
        "outputId": "76ed83f2-ea50-4146-9291-bbb4eb9a0739"
      },
      "outputs": [
        {
          "output_type": "stream",
          "name": "stdout",
          "text": [
            "\u001b[?25l   \u001b[90m━━━━━━━━━━━━━━━━━━━━━━━━━━━━━━━━━━━━━━━━\u001b[0m \u001b[32m0.0/42.0 kB\u001b[0m \u001b[31m?\u001b[0m eta \u001b[36m-:--:--\u001b[0m\r\u001b[2K   \u001b[90m━━━━━━━━━━━━━━━━━━━━━━━━━━━━━━━━━━━━━━━━\u001b[0m \u001b[32m42.0/42.0 kB\u001b[0m \u001b[31m2.7 MB/s\u001b[0m eta \u001b[36m0:00:00\u001b[0m\n",
            "\u001b[2K   \u001b[90m━━━━━━━━━━━━━━━━━━━━━━━━━━━━━━━━━━━━━━━━\u001b[0m \u001b[32m2.5/2.5 MB\u001b[0m \u001b[31m57.5 MB/s\u001b[0m eta \u001b[36m0:00:00\u001b[0m\n",
            "\u001b[2K   \u001b[90m━━━━━━━━━━━━━━━━━━━━━━━━━━━━━━━━━━━━━━━━\u001b[0m \u001b[32m45.2/45.2 kB\u001b[0m \u001b[31m3.3 MB/s\u001b[0m eta \u001b[36m0:00:00\u001b[0m\n",
            "\u001b[2K   \u001b[90m━━━━━━━━━━━━━━━━━━━━━━━━━━━━━━━━━━━━━━━━\u001b[0m \u001b[32m50.9/50.9 kB\u001b[0m \u001b[31m3.6 MB/s\u001b[0m eta \u001b[36m0:00:00\u001b[0m\n",
            "\u001b[?25h"
          ]
        }
      ],
      "source": [
        "!pip install -q langchain langchainhub langchain-google-genai langchain-community google-generativeai numexpr"
      ]
    },
    {
      "cell_type": "code",
      "source": [
        "import json, requests\n",
        "from google.colab import userdata\n",
        "from langchain_google_genai import ChatGoogleGenerativeAI\n",
        "from langchain.tools import tool\n",
        "from langchain.agents import load_tools, initialize_agent, AgentType\n",
        "from langchain.memory import ConversationBufferMemory\n",
        "\n",
        "\n",
        "llm = ChatGoogleGenerativeAI(\n",
        "  model=\"gemini-2.0-flash-lite\",\n",
        "  temperature=0, max_tokens=500,\n",
        "  google_api_key=userdata.get('Divya_Key')\n",
        ")\n",
        "\n",
        "\n",
        "@tool\n",
        "def fetch_weather(location: str) -> str:\n",
        "  \"\"\"\n",
        "  Fetches current weather and forecast for a given location.\n",
        "  Example: fetch_weather(location=\"London\")\n",
        "  \"\"\"\n",
        "  url = f\"https://wttr.in/{location}?format=j1\"\n",
        "  resp = requests.get(url, headers={\"User-Agent\": \"langchain-tool\"})\n",
        "  if resp.status_code != 200:\n",
        "      return f\"Error: status {resp.status_code}\"\n",
        "  data = resp.text\n",
        "  return data\n",
        "# load any built-in tools and add our custom tool\n",
        "builtin = load_tools([\"llm-math\"], llm=llm)\n",
        "tools = [fetch_weather] + builtin\n",
        "memory = ConversationBufferMemory(memory_key=\"chat_history\", return_messages=True)\n",
        "\n",
        "\n",
        "# initialize the agent\n",
        "agent = initialize_agent(tools, llm,\n",
        "  agent=AgentType.CONVERSATIONAL_REACT_DESCRIPTION,\n",
        "  verbose=False, memory=memory,\n",
        "  handle_parsing_errors=True\n",
        ")\n",
        "\n",
        "\n",
        "print(\"Agent initialized with tools:\", [t.name for t in tools])\n",
        "CUSTOM_INSTRUCTION = 'I prefer SI units and concise responses'"
      ],
      "metadata": {
        "colab": {
          "base_uri": "https://localhost:8080/"
        },
        "id": "dr2wPD2Rk75A",
        "outputId": "451f165c-4ddd-48af-cdce-a792aa73df22"
      },
      "execution_count": 3,
      "outputs": [
        {
          "output_type": "stream",
          "name": "stdout",
          "text": [
            "Agent initialized with tools: ['fetch_weather', 'Calculator']\n"
          ]
        },
        {
          "output_type": "stream",
          "name": "stderr",
          "text": [
            "/tmp/ipython-input-3-168022675.py:31: LangChainDeprecationWarning: Please see the migration guide at: https://python.langchain.com/docs/versions/migrating_memory/\n",
            "  memory = ConversationBufferMemory(memory_key=\"chat_history\", return_messages=True)\n",
            "/tmp/ipython-input-3-168022675.py:35: LangChainDeprecationWarning: LangChain agents will continue to be supported, but it is recommended for new use cases to be built with LangGraph. LangGraph offers a more flexible and full-featured framework for building agents, including support for tool-calling, persistence of state, and human-in-the-loop workflows. For details, refer to the `LangGraph documentation <https://langchain-ai.github.io/langgraph/>`_ as well as guides for `Migrating from AgentExecutor <https://python.langchain.com/docs/how_to/migrate_agent/>`_ and LangGraph's `Pre-built ReAct agent <https://langchain-ai.github.io/langgraph/how-tos/create-react-agent/>`_.\n",
            "  agent = initialize_agent(tools, llm,\n"
          ]
        }
      ]
    },
    {
      "cell_type": "code",
      "source": [
        "prompt = \"how is it in bangalore tomorrow?\"\n",
        "response = agent.invoke({\"input\": CUSTOM_INSTRUCTION + '. ' + prompt})\n",
        "print(f\"Agent: {response['output']}\")"
      ],
      "metadata": {
        "colab": {
          "base_uri": "https://localhost:8080/"
        },
        "id": "4b8gbAI8lLWY",
        "outputId": "3a610175-04b8-482b-bd80-0554cd3b0167"
      },
      "execution_count": 4,
      "outputs": [
        {
          "output_type": "stream",
          "name": "stdout",
          "text": [
            "Agent: The forecast for Bangalore tomorrow is partly cloudy with a high of 29°C and a low of 20°C. There is a chance of rain in the evening.\n"
          ]
        }
      ]
    }
  ]
}