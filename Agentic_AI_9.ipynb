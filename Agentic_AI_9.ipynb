{
  "nbformat": 4,
  "nbformat_minor": 0,
  "metadata": {
    "colab": {
      "provenance": [],
      "authorship_tag": "ABX9TyOmnE8/NKPeOkTIY1Rkyn5B",
      "include_colab_link": true
    },
    "kernelspec": {
      "name": "python3",
      "display_name": "Python 3"
    },
    "language_info": {
      "name": "python"
    }
  },
  "cells": [
    {
      "cell_type": "markdown",
      "metadata": {
        "id": "view-in-github",
        "colab_type": "text"
      },
      "source": [
        "<a href=\"https://colab.research.google.com/github/DivyaMeenaSundaram/Agentic-AI/blob/main/Agentic_AI_9.ipynb\" target=\"_parent\"><img src=\"https://colab.research.google.com/assets/colab-badge.svg\" alt=\"Open In Colab\"/></a>"
      ]
    },
    {
      "cell_type": "markdown",
      "source": [
        "From Chains to Agents: Adding Tools"
      ],
      "metadata": {
        "id": "q2bz2q5lYmk5"
      }
    },
    {
      "cell_type": "code",
      "execution_count": 1,
      "metadata": {
        "colab": {
          "base_uri": "https://localhost:8080/"
        },
        "id": "TY_ZQhFuYe3z",
        "outputId": "de673ebd-2f96-4536-e868-d71eb0a07a32"
      },
      "outputs": [
        {
          "output_type": "stream",
          "name": "stdout",
          "text": [
            "  Preparing metadata (setup.py) ... \u001b[?25l\u001b[?25hdone\n",
            "\u001b[2K   \u001b[90m━━━━━━━━━━━━━━━━━━━━━━━━━━━━━━━━━━━━━━━━\u001b[0m \u001b[32m42.0/42.0 kB\u001b[0m \u001b[31m1.6 MB/s\u001b[0m eta \u001b[36m0:00:00\u001b[0m\n",
            "\u001b[2K   \u001b[90m━━━━━━━━━━━━━━━━━━━━━━━━━━━━━━━━━━━━━━━━\u001b[0m \u001b[32m2.5/2.5 MB\u001b[0m \u001b[31m10.5 MB/s\u001b[0m eta \u001b[36m0:00:00\u001b[0m\n",
            "\u001b[2K   \u001b[90m━━━━━━━━━━━━━━━━━━━━━━━━━━━━━━━━━━━━━━━━\u001b[0m \u001b[32m45.2/45.2 kB\u001b[0m \u001b[31m2.9 MB/s\u001b[0m eta \u001b[36m0:00:00\u001b[0m\n",
            "\u001b[2K   \u001b[90m━━━━━━━━━━━━━━━━━━━━━━━━━━━━━━━━━━━━━━━━\u001b[0m \u001b[32m50.9/50.9 kB\u001b[0m \u001b[31m2.8 MB/s\u001b[0m eta \u001b[36m0:00:00\u001b[0m\n",
            "\u001b[?25h  Building wheel for wikipedia (setup.py) ... \u001b[?25l\u001b[?25hdone\n"
          ]
        }
      ],
      "source": [
        "!pip install -q langchain langchain-google-genai langchain-community google-generativeai wikipedia numexpr langchainhub"
      ]
    },
    {
      "cell_type": "code",
      "source": [
        "from google.colab import userdata\n",
        "from langchain_google_genai import ChatGoogleGenerativeAI\n",
        "\n",
        "\n",
        "GOOGLE_API_KEY = None\n",
        "llm = None\n",
        "try:\n",
        "    GOOGLE_API_KEY = userdata.get('Divya_Key')\n",
        "    llm = ChatGoogleGenerativeAI(model=\"gemini-2.0-flash-lite\", temperature=0, max_tokens=500, google_api_key=GOOGLE_API_KEY)\n",
        "    print(\"API Key loaded and LLM initialized successfully.\")\n",
        "except Exception as e:\n",
        "    print(f\"ERROR: Could not load API key or initialize LLM. {e}\")"
      ],
      "metadata": {
        "colab": {
          "base_uri": "https://localhost:8080/"
        },
        "id": "1AqHEgdBYrGY",
        "outputId": "7a382494-7452-4968-82f5-37c1412d1885"
      },
      "execution_count": 2,
      "outputs": [
        {
          "output_type": "stream",
          "name": "stdout",
          "text": [
            "API Key loaded and LLM initialized successfully.\n"
          ]
        }
      ]
    },
    {
      "cell_type": "code",
      "source": [
        "from langchain.agents import load_tools\n",
        "tools = []\n",
        "if llm:\n",
        "    tools = load_tools([\"wikipedia\", \"llm-math\"], llm=llm)\n",
        "    print(f\"Loaded tools: {[tool.name for tool in tools]}\")\n",
        "else:\n",
        "    print(\"LLM not ready, cannot load tools.\")"
      ],
      "metadata": {
        "colab": {
          "base_uri": "https://localhost:8080/"
        },
        "id": "dyIJqoZ5ZzhN",
        "outputId": "52587f22-9318-45b4-a1f3-5e79c5f6c817"
      },
      "execution_count": 3,
      "outputs": [
        {
          "output_type": "stream",
          "name": "stdout",
          "text": [
            "Loaded tools: ['wikipedia', 'Calculator']\n"
          ]
        }
      ]
    },
    {
      "cell_type": "code",
      "source": [
        "from langchain.memory import ConversationBufferMemory\n",
        "\n",
        "\n",
        "# We use 'chat_history' as the memory key\n",
        "memory = ConversationBufferMemory(memory_key=\"chat_history\", return_messages=True)\n",
        "print(\"ConversationBufferMemory initialized.\")"
      ],
      "metadata": {
        "colab": {
          "base_uri": "https://localhost:8080/"
        },
        "id": "pcJvx-_hZ2TG",
        "outputId": "bfd83cdb-32d8-43da-f9e4-d9efdddccfc9"
      },
      "execution_count": 4,
      "outputs": [
        {
          "output_type": "stream",
          "name": "stdout",
          "text": [
            "ConversationBufferMemory initialized.\n"
          ]
        },
        {
          "output_type": "stream",
          "name": "stderr",
          "text": [
            "/tmp/ipython-input-4-1170604182.py:5: LangChainDeprecationWarning: Please see the migration guide at: https://python.langchain.com/docs/versions/migrating_memory/\n",
            "  memory = ConversationBufferMemory(memory_key=\"chat_history\", return_messages=True)\n"
          ]
        }
      ]
    },
    {
      "cell_type": "code",
      "source": [
        "from langchain.agents import initialize_agent, AgentType\n",
        "\n",
        "\n",
        "agent_executor = None\n",
        "if llm and tools:\n",
        "    agent_executor = initialize_agent(\n",
        "        tools,\n",
        "        llm,\n",
        "        agent=AgentType.CONVERSATIONAL_REACT_DESCRIPTION,\n",
        "        verbose=True,\n",
        "        memory=memory,\n",
        "        handle_parsing_errors=True\n",
        "    )\n",
        "    print(\"Agent Executor initialized.\")\n",
        "else:\n",
        "    print(\"LLM or Tools not ready. Cannot create agent.\")"
      ],
      "metadata": {
        "colab": {
          "base_uri": "https://localhost:8080/"
        },
        "id": "Ygd8rLjwZ5Uo",
        "outputId": "6b4e4402-53fa-4f87-ac66-c1e6e96a0dc5"
      },
      "execution_count": 5,
      "outputs": [
        {
          "output_type": "stream",
          "name": "stdout",
          "text": [
            "Agent Executor initialized.\n"
          ]
        },
        {
          "output_type": "stream",
          "name": "stderr",
          "text": [
            "/tmp/ipython-input-5-1096882676.py:6: LangChainDeprecationWarning: LangChain agents will continue to be supported, but it is recommended for new use cases to be built with LangGraph. LangGraph offers a more flexible and full-featured framework for building agents, including support for tool-calling, persistence of state, and human-in-the-loop workflows. For details, refer to the `LangGraph documentation <https://langchain-ai.github.io/langgraph/>`_ as well as guides for `Migrating from AgentExecutor <https://python.langchain.com/docs/how_to/migrate_agent/>`_ and LangGraph's `Pre-built ReAct agent <https://langchain-ai.github.io/langgraph/how-tos/create-react-agent/>`_.\n",
            "  agent_executor = initialize_agent(\n"
          ]
        }
      ]
    },
    {
      "cell_type": "code",
      "source": [
        "# Example 1: Using Wikipedia\n",
        "q1 = \"Who wrote the book 'Sapiens: A Brief History of Humankind'?\"\n",
        "print(f\"\\nUser: {q1}\")\n",
        "response1 = agent_executor.invoke({\"input\": q1})\n",
        "print(f\"Agent: {response1['output']}\")"
      ],
      "metadata": {
        "colab": {
          "base_uri": "https://localhost:8080/"
        },
        "id": "bDpjg5DxZ8tc",
        "outputId": "bc1fe123-05fa-4f2f-dad7-675504b81bd2"
      },
      "execution_count": 10,
      "outputs": [
        {
          "output_type": "stream",
          "name": "stdout",
          "text": [
            "\n",
            "User: Who wrote the book 'Sapiens: A Brief History of Humankind'?\n",
            "\n",
            "\n",
            "\u001b[1m> Entering new AgentExecutor chain...\u001b[0m\n",
            "\u001b[32;1m\u001b[1;3mThought: Do I need to use a tool? Yes\n",
            "Action: wikipedia\n",
            "Action Input: Sapiens: A Brief History of Humankind\u001b[0m\n",
            "Observation: \u001b[36;1m\u001b[1;3mPage: Sapiens: A Brief History of Humankind\n",
            "Summary: Sapiens: A Brief History of Humankind (Hebrew: קיצור תולדות האנושות, Qitzur Toldot ha-Enoshut) is a book by Yuval Noah Harari, based on a series of lectures he taught at The Hebrew University of Jerusalem. It was first published in Hebrew in Israel in 2011, and in English in 2014. The book focuses on Homo sapiens, and surveys the history of humankind, starting from the Stone Age and going up to the 21st century. The account is situated within a framework that intersects the natural sciences with the social sciences.\n",
            "\n",
            "\n",
            "\n",
            "Page: Homo Deus: A Brief History of Tomorrow\n",
            "Summary: Homo Deus: A Brief History of Tomorrow (Hebrew: ההיסטוריה של המחר (Romanised: hahistoria shel hamachar), English: The History of the Tomorrow) is a book written by Israeli author Yuval Noah Harari, professor at the Hebrew University in Jerusalem. The book was first published in Hebrew in 2015 by Dvir publishing; the English-language version was published in September 2016 in the United Kingdom and in February 2017 in the United States.\n",
            "As with its predecessor, Sapiens: A Brief History of Humankind, Harari recounts the course of human history while describing events and the individual human experience, along with ethical issues in relation to his historical survey. However, Homo Deus (from Latin \"Homo\" meaning man or human and \"Deus\" meaning God) deals more with the abilities acquired by humans (Homo sapiens) throughout their existence, and their evolution as the dominant species in the world. The book describes mankind's current abilities and achievements and attempts to paint an image of the future. Many philosophical issues are discussed, such as humanism, individualism, transhumanism, and mortality.\n",
            "\n",
            "Page: Yuval Noah Harari\n",
            "Summary: Yuval Noah Harari (Hebrew: יובל נח הררי [juˈval ˈnoaχ haˈʁaʁi]; born 1976) is an Israeli medievalist, military historian, public intellectual, and popular science writer. He currently serves as professor in the Department of History at the Hebrew University of Jerusalem. His first bestselling book, Sapiens: A Brief History of Humankind (2011) is based on his lectures to an undergraduate world history class. His other works include the bestsellers Homo Deus: A Brief History of Tomorrow (2016), 21 Lessons for the 21st Century (2018), and Nexus: A Brief History of Information Networks from the Stone Age to AI (2024). His published work examines themes of free will, consciousness, intelligence, happiness, suffering and the role of storytelling in human evolution. \n",
            "In Sapiens, Harari writes about a \"cognitive revolution\" that supposedly occurred roughly 70,000 years ago when Homo sapiens supplanted the rival Neanderthals and other species of the genus Homo, developed language skills and structured societies, and ascended as apex predators, aided by the First Agricultural Revolution and accelerated by the Scientific Revolution, which have allowed humans to approach near mastery over their environment. Furthermore, he examines the possible consequences of a futuristic biotechnological world in which intelligent biological organisms are surpassed by their own creations; he has said, \"Homo sapiens as we know them will disappear in a century or so\". Although Harari's books have received considerable commercial success since the publication of Sapiens, his work has been more negatively received in academic circles.\n",
            "\n",
            "\u001b[0m\n",
            "Thought:\u001b[32;1m\u001b[1;3mDo I need to use a tool? No\n",
            "AI: The book 'Sapiens: A Brief History of Humankind' was written by Yuval Noah Harari.\u001b[0m\n",
            "\n",
            "\u001b[1m> Finished chain.\u001b[0m\n",
            "Agent: The book 'Sapiens: A Brief History of Humankind' was written by Yuval Noah Harari.\n"
          ]
        }
      ]
    }
  ]
}