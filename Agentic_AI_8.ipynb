{
  "nbformat": 4,
  "nbformat_minor": 0,
  "metadata": {
    "colab": {
      "provenance": [],
      "authorship_tag": "ABX9TyOwgkzHQOA6G9rokjIM/JXN",
      "include_colab_link": true
    },
    "kernelspec": {
      "name": "python3",
      "display_name": "Python 3"
    },
    "language_info": {
      "name": "python"
    }
  },
  "cells": [
    {
      "cell_type": "markdown",
      "metadata": {
        "id": "view-in-github",
        "colab_type": "text"
      },
      "source": [
        "<a href=\"https://colab.research.google.com/github/DivyaMeenaSundaram/Agentic-AI/blob/main/Agentic_AI_8.ipynb\" target=\"_parent\"><img src=\"https://colab.research.google.com/assets/colab-badge.svg\" alt=\"Open In Colab\"/></a>"
      ]
    },
    {
      "cell_type": "markdown",
      "source": [
        "Chatbot with memory"
      ],
      "metadata": {
        "id": "Ne4wUHwlUWSh"
      }
    },
    {
      "cell_type": "code",
      "execution_count": 1,
      "metadata": {
        "colab": {
          "base_uri": "https://localhost:8080/"
        },
        "id": "mKVHThXBSw2h",
        "outputId": "d54d4612-fbb3-49ed-9827-72abebc06734"
      },
      "outputs": [
        {
          "output_type": "stream",
          "name": "stdout",
          "text": [
            "\u001b[?25l   \u001b[90m━━━━━━━━━━━━━━━━━━━━━━━━━━━━━━━━━━━━━━━━\u001b[0m \u001b[32m0.0/42.0 kB\u001b[0m \u001b[31m?\u001b[0m eta \u001b[36m-:--:--\u001b[0m\r\u001b[2K   \u001b[90m━━━━━━━━━━━━━━━━━━━━━━━━━━━━━━━━━━━━━━━━\u001b[0m \u001b[32m42.0/42.0 kB\u001b[0m \u001b[31m1.5 MB/s\u001b[0m eta \u001b[36m0:00:00\u001b[0m\n",
            "\u001b[?25h"
          ]
        }
      ],
      "source": [
        "!pip install -q langchain langchain-google-genai google-generativeai"
      ]
    },
    {
      "cell_type": "code",
      "source": [
        "from google.colab import userdata\n",
        "import os\n",
        "from langchain_google_genai import ChatGoogleGenerativeAI\n",
        "from langchain.memory import ConversationBufferMemory\n",
        "from langchain.chains import ConversationChain # A convenience chain for conversations\n",
        "from langchain.prompts import MessagesPlaceholder, HumanMessagePromptTemplate, ChatPromptTemplate"
      ],
      "metadata": {
        "id": "pAK_20DVUjdP"
      },
      "execution_count": 2,
      "outputs": []
    },
    {
      "cell_type": "code",
      "source": [
        "# Attempt to load API Key and Initialize LLM\n",
        "GOOGLE_API_KEY = None\n",
        "llm = None\n",
        "try:\n",
        "    GOOGLE_API_KEY = userdata.get('Divya_Key')\n",
        "    os.environ['GOOGLE_API_KEY'] = GOOGLE_API_KEY\n",
        "    llm = ChatGoogleGenerativeAI(model=\"gemini-2.0-flash-lite\", temperature=0.7)\n",
        "    print(\"API Key loaded and LLM initialized successfully.\")\n",
        "except Exception as e:\n",
        "    print(f\"ERROR: Could not load API key or initialize LLM. {e}\")\n",
        "    print(\"Please ensure GOOGLE_API_KEY is set in Colab Secrets and prerequisites are met.\")\n"
      ],
      "metadata": {
        "colab": {
          "base_uri": "https://localhost:8080/"
        },
        "id": "m1nVxfouUnfz",
        "outputId": "cb5bedc4-36de-496b-bbc2-fe5b0f86f15b"
      },
      "execution_count": 4,
      "outputs": [
        {
          "output_type": "stream",
          "name": "stdout",
          "text": [
            "API Key loaded and LLM initialized successfully.\n"
          ]
        }
      ]
    },
    {
      "cell_type": "code",
      "source": [
        "if llm:\n",
        "    memory = ConversationBufferMemory(memory_key=\"history\", return_messages=True)\n",
        "    print(\"ConversationBufferMemory initialized.\")\n",
        "    conversation = ConversationChain(\n",
        "        llm=llm,\n",
        "        memory=memory,\n",
        "        verbose=True # Set to True to see the prompt and history being processed\n",
        "    )\n",
        "    print(\"ConversationChain created.\")\n",
        "else:\n",
        "    print(\"\\nLLM not initialized. Cannot create conversation chain.\")\n",
        "    conversation = None"
      ],
      "metadata": {
        "colab": {
          "base_uri": "https://localhost:8080/"
        },
        "id": "UgmJzjpZUwbl",
        "outputId": "83f806c0-2a42-4aac-f774-3801702d31f2"
      },
      "execution_count": 5,
      "outputs": [
        {
          "output_type": "stream",
          "name": "stdout",
          "text": [
            "ConversationBufferMemory initialized.\n",
            "ConversationChain created.\n"
          ]
        },
        {
          "output_type": "stream",
          "name": "stderr",
          "text": [
            "/tmp/ipython-input-5-1930908629.py:2: LangChainDeprecationWarning: Please see the migration guide at: https://python.langchain.com/docs/versions/migrating_memory/\n",
            "  memory = ConversationBufferMemory(memory_key=\"history\", return_messages=True)\n",
            "/tmp/ipython-input-5-1930908629.py:4: LangChainDeprecationWarning: The class `ConversationChain` was deprecated in LangChain 0.2.7 and will be removed in 1.0. Use :class:`~langchain_core.runnables.history.RunnableWithMessageHistory` instead.\n",
            "  conversation = ConversationChain(\n"
          ]
        }
      ]
    },
    {
      "cell_type": "code",
      "source": [
        "if conversation:\n",
        "    print(\"\\n--- Starting Chatbot Conversation ---\")\n",
        "\n",
        "\n",
        "    # Turn 1\n",
        "    user_input_1 = \"My name is Alex and I'm interested in learning about space exploration.\"\n",
        "    print(f\"\\nUser: {user_input_1}\")\n",
        "    response_1 = conversation.invoke({\"input\": user_input_1})\n",
        "    print(f\"AI: {response_1['response']}\") # ConversationChain output is in 'response' key\n"
      ],
      "metadata": {
        "colab": {
          "base_uri": "https://localhost:8080/"
        },
        "id": "9SdO3mHJUzQX",
        "outputId": "40b68b28-31ec-49e4-ba40-709ba80cf09d"
      },
      "execution_count": 6,
      "outputs": [
        {
          "output_type": "stream",
          "name": "stdout",
          "text": [
            "\n",
            "--- Starting Chatbot Conversation ---\n",
            "\n",
            "User: My name is Alex and I'm interested in learning about space exploration.\n",
            "\n",
            "\n",
            "\u001b[1m> Entering new ConversationChain chain...\u001b[0m\n",
            "Prompt after formatting:\n",
            "\u001b[32;1m\u001b[1;3mThe following is a friendly conversation between a human and an AI. The AI is talkative and provides lots of specific details from its context. If the AI does not know the answer to a question, it truthfully says it does not know.\n",
            "\n",
            "Current conversation:\n",
            "[]\n",
            "Human: My name is Alex and I'm interested in learning about space exploration.\n",
            "AI:\u001b[0m\n",
            "\n",
            "\u001b[1m> Finished chain.\u001b[0m\n",
            "AI: Hello Alex! It's wonderful to meet you, and I'm absolutely thrilled you're interested in space exploration! It's a subject I find endlessly fascinating, and I can certainly share a lot of information with you. I have access to a vast amount of data, including details on past, present, and even future missions. I can tell you about different spacecraft, the planets, the stars, the history of space travel, the challenges involved, the technologies used, and the incredible people who make it all happen.\n",
            "\n",
            "Where would you like to begin? Perhaps you're curious about a specific mission, like the Apollo program or the James Webb Space Telescope? Or maybe you're interested in the search for extraterrestrial life? I can also give you a rundown on the different space agencies around the world, like NASA, ESA (European Space Agency), Roscosmos (Russian Space Agency), and the Chinese National Space Administration.\n",
            "\n",
            "Just let me know what sparks your interest, Alex! I'm ready to dive in and share everything I know! Do you have any questions already, or a particular topic you'd like to explore first?\n"
          ]
        }
      ]
    },
    {
      "cell_type": "code",
      "source": [
        "# Turn 2\n",
        "user_input_2 = \"What was the topic I said I was interested in?\"\n",
        "print(f\"\\nUser: {user_input_2}\")\n",
        "response_2 = conversation.invoke({\"input\": user_input_2})\n",
        "print(f\"AI: {response_2['response']}\")\n"
      ],
      "metadata": {
        "colab": {
          "base_uri": "https://localhost:8080/"
        },
        "id": "_Ky3TZcmU5sa",
        "outputId": "27c1cfb1-1485-4f39-ceaa-a15b0661ece5"
      },
      "execution_count": 7,
      "outputs": [
        {
          "output_type": "stream",
          "name": "stdout",
          "text": [
            "\n",
            "User: What was the topic I said I was interested in?\n",
            "\n",
            "\n",
            "\u001b[1m> Entering new ConversationChain chain...\u001b[0m\n",
            "Prompt after formatting:\n",
            "\u001b[32;1m\u001b[1;3mThe following is a friendly conversation between a human and an AI. The AI is talkative and provides lots of specific details from its context. If the AI does not know the answer to a question, it truthfully says it does not know.\n",
            "\n",
            "Current conversation:\n",
            "[HumanMessage(content=\"My name is Alex and I'm interested in learning about space exploration.\", additional_kwargs={}, response_metadata={}), AIMessage(content=\"Hello Alex! It's wonderful to meet you, and I'm absolutely thrilled you're interested in space exploration! It's a subject I find endlessly fascinating, and I can certainly share a lot of information with you. I have access to a vast amount of data, including details on past, present, and even future missions. I can tell you about different spacecraft, the planets, the stars, the history of space travel, the challenges involved, the technologies used, and the incredible people who make it all happen.\\n\\nWhere would you like to begin? Perhaps you're curious about a specific mission, like the Apollo program or the James Webb Space Telescope? Or maybe you're interested in the search for extraterrestrial life? I can also give you a rundown on the different space agencies around the world, like NASA, ESA (European Space Agency), Roscosmos (Russian Space Agency), and the Chinese National Space Administration.\\n\\nJust let me know what sparks your interest, Alex! I'm ready to dive in and share everything I know! Do you have any questions already, or a particular topic you'd like to explore first?\", additional_kwargs={}, response_metadata={})]\n",
            "Human: What was the topic I said I was interested in?\n",
            "AI:\u001b[0m\n",
            "\n",
            "\u001b[1m> Finished chain.\u001b[0m\n",
            "AI: You mentioned you were interested in learning about \"space exploration,\" Alex! I remember it clearly. I even got excited and offered to share a lot of information about it, including missions, spacecraft, planets, and the history of space travel.\n"
          ]
        }
      ]
    },
    {
      "cell_type": "code",
      "source": [
        "# Turn 3\n",
        "user_input_3 = \"Can you suggest a good starting point for that topic?\"\n",
        "print(f\"\\nUser: {user_input_3}\")\n",
        "response_3 = conversation.invoke({\"input\": user_input_3})\n",
        "print(f\"AI: {response_3['response']}\")\n"
      ],
      "metadata": {
        "colab": {
          "base_uri": "https://localhost:8080/"
        },
        "id": "nRJMZWfoU8_i",
        "outputId": "7efc6de6-d5b5-4639-90f2-30d4bdcf6616"
      },
      "execution_count": 8,
      "outputs": [
        {
          "output_type": "stream",
          "name": "stdout",
          "text": [
            "\n",
            "User: Can you suggest a good starting point for that topic?\n",
            "\n",
            "\n",
            "\u001b[1m> Entering new ConversationChain chain...\u001b[0m\n",
            "Prompt after formatting:\n",
            "\u001b[32;1m\u001b[1;3mThe following is a friendly conversation between a human and an AI. The AI is talkative and provides lots of specific details from its context. If the AI does not know the answer to a question, it truthfully says it does not know.\n",
            "\n",
            "Current conversation:\n",
            "[HumanMessage(content=\"My name is Alex and I'm interested in learning about space exploration.\", additional_kwargs={}, response_metadata={}), AIMessage(content=\"Hello Alex! It's wonderful to meet you, and I'm absolutely thrilled you're interested in space exploration! It's a subject I find endlessly fascinating, and I can certainly share a lot of information with you. I have access to a vast amount of data, including details on past, present, and even future missions. I can tell you about different spacecraft, the planets, the stars, the history of space travel, the challenges involved, the technologies used, and the incredible people who make it all happen.\\n\\nWhere would you like to begin? Perhaps you're curious about a specific mission, like the Apollo program or the James Webb Space Telescope? Or maybe you're interested in the search for extraterrestrial life? I can also give you a rundown on the different space agencies around the world, like NASA, ESA (European Space Agency), Roscosmos (Russian Space Agency), and the Chinese National Space Administration.\\n\\nJust let me know what sparks your interest, Alex! I'm ready to dive in and share everything I know! Do you have any questions already, or a particular topic you'd like to explore first?\", additional_kwargs={}, response_metadata={}), HumanMessage(content='What was the topic I said I was interested in?', additional_kwargs={}, response_metadata={}), AIMessage(content='You mentioned you were interested in learning about \"space exploration,\" Alex! I remember it clearly. I even got excited and offered to share a lot of information about it, including missions, spacecraft, planets, and the history of space travel.', additional_kwargs={}, response_metadata={})]\n",
            "Human: Can you suggest a good starting point for that topic?\n",
            "AI:\u001b[0m\n",
            "\n",
            "\u001b[1m> Finished chain.\u001b[0m\n",
            "AI: Absolutely, Alex! Since you're interested in space exploration, a fantastic starting point would be to explore the *history* of space travel. It provides a great foundation for understanding where we are now and where we're headed.\n",
            "\n",
            "Here's why it's a good idea:\n",
            "\n",
            "*   **Context:** Understanding the history gives you a strong context for current missions and future goals. You'll see how we got to where we are today, from the early days of rocketry to the sophisticated technology used in modern space exploration.\n",
            "*   **Milestones:** You'll learn about key milestones, like the launch of Sputnik, Yuri Gagarin's first flight, the Apollo missions to the Moon, and the development of the International Space Station. These are crucial events that shaped the field.\n",
            "*   **Technological Advancements:** The history of space travel is a story of incredible technological advancements. You'll see how rockets, spacecraft, and other technologies have evolved over time, and how these innovations have pushed the boundaries of what's possible.\n",
            "*   **Human Endeavor:** It's a story about human ingenuity, courage, and collaboration. You'll learn about the people who made it all happen, the challenges they faced, and the sacrifices they made.\n",
            "\n",
            "We could start with the early pioneers like Konstantin Tsiolkovsky and Robert Goddard, who laid the theoretical groundwork for rocketry. Then, we can move on to the Space Race between the United States and the Soviet Union, which spurred rapid advancements. Finally, we can look at the more recent developments, such as the rise of private space companies and the ongoing exploration of Mars and beyond.\n",
            "\n",
            "Would you like to start with the early pioneers, or do you have another preference?\n"
          ]
        }
      ]
    },
    {
      "cell_type": "code",
      "source": [
        "# You can inspect the memory content\n",
        "print(\"\\n--- Current Memory Buffer ---\")\n",
        "# If memory.return_messages=True, memory.buffer is a list of Message objects\n",
        "# For printing, we can access their content.\n",
        "for message in memory.chat_memory.messages:\n",
        "   print(f\"{message.type.upper()}: {message.content}\")\n"
      ],
      "metadata": {
        "colab": {
          "base_uri": "https://localhost:8080/"
        },
        "id": "t0F7hl-nVAOk",
        "outputId": "e34b1a5e-89ea-49b2-f849-e349d766b940"
      },
      "execution_count": 9,
      "outputs": [
        {
          "output_type": "stream",
          "name": "stdout",
          "text": [
            "\n",
            "--- Current Memory Buffer ---\n",
            "HUMAN: My name is Alex and I'm interested in learning about space exploration.\n",
            "AI: Hello Alex! It's wonderful to meet you, and I'm absolutely thrilled you're interested in space exploration! It's a subject I find endlessly fascinating, and I can certainly share a lot of information with you. I have access to a vast amount of data, including details on past, present, and even future missions. I can tell you about different spacecraft, the planets, the stars, the history of space travel, the challenges involved, the technologies used, and the incredible people who make it all happen.\n",
            "\n",
            "Where would you like to begin? Perhaps you're curious about a specific mission, like the Apollo program or the James Webb Space Telescope? Or maybe you're interested in the search for extraterrestrial life? I can also give you a rundown on the different space agencies around the world, like NASA, ESA (European Space Agency), Roscosmos (Russian Space Agency), and the Chinese National Space Administration.\n",
            "\n",
            "Just let me know what sparks your interest, Alex! I'm ready to dive in and share everything I know! Do you have any questions already, or a particular topic you'd like to explore first?\n",
            "HUMAN: What was the topic I said I was interested in?\n",
            "AI: You mentioned you were interested in learning about \"space exploration,\" Alex! I remember it clearly. I even got excited and offered to share a lot of information about it, including missions, spacecraft, planets, and the history of space travel.\n",
            "HUMAN: Can you suggest a good starting point for that topic?\n",
            "AI: Absolutely, Alex! Since you're interested in space exploration, a fantastic starting point would be to explore the *history* of space travel. It provides a great foundation for understanding where we are now and where we're headed.\n",
            "\n",
            "Here's why it's a good idea:\n",
            "\n",
            "*   **Context:** Understanding the history gives you a strong context for current missions and future goals. You'll see how we got to where we are today, from the early days of rocketry to the sophisticated technology used in modern space exploration.\n",
            "*   **Milestones:** You'll learn about key milestones, like the launch of Sputnik, Yuri Gagarin's first flight, the Apollo missions to the Moon, and the development of the International Space Station. These are crucial events that shaped the field.\n",
            "*   **Technological Advancements:** The history of space travel is a story of incredible technological advancements. You'll see how rockets, spacecraft, and other technologies have evolved over time, and how these innovations have pushed the boundaries of what's possible.\n",
            "*   **Human Endeavor:** It's a story about human ingenuity, courage, and collaboration. You'll learn about the people who made it all happen, the challenges they faced, and the sacrifices they made.\n",
            "\n",
            "We could start with the early pioneers like Konstantin Tsiolkovsky and Robert Goddard, who laid the theoretical groundwork for rocketry. Then, we can move on to the Space Race between the United States and the Soviet Union, which spurred rapid advancements. Finally, we can look at the more recent developments, such as the rise of private space companies and the ongoing exploration of Mars and beyond.\n",
            "\n",
            "Would you like to start with the early pioneers, or do you have another preference?\n"
          ]
        }
      ]
    }
  ]
}