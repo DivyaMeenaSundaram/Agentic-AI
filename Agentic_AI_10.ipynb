{
  "nbformat": 4,
  "nbformat_minor": 0,
  "metadata": {
    "colab": {
      "provenance": [],
      "authorship_tag": "ABX9TyM4NuWsTOwRZ029tnSdsJ5S",
      "include_colab_link": true
    },
    "kernelspec": {
      "name": "python3",
      "display_name": "Python 3"
    },
    "language_info": {
      "name": "python"
    }
  },
  "cells": [
    {
      "cell_type": "markdown",
      "metadata": {
        "id": "view-in-github",
        "colab_type": "text"
      },
      "source": [
        "<a href=\"https://colab.research.google.com/github/DivyaMeenaSundaram/Agentic-AI/blob/main/Agentic_AI_10.ipynb\" target=\"_parent\"><img src=\"https://colab.research.google.com/assets/colab-badge.svg\" alt=\"Open In Colab\"/></a>"
      ]
    },
    {
      "cell_type": "markdown",
      "source": [
        "Agent with Custom Tools"
      ],
      "metadata": {
        "id": "4vDhjWgfcoK-"
      }
    },
    {
      "cell_type": "code",
      "execution_count": 8,
      "metadata": {
        "colab": {
          "base_uri": "https://localhost:8080/"
        },
        "id": "nuhJRZkDbi80",
        "outputId": "5e91c9b9-0055-4abf-d46f-7d08876a7ad5"
      },
      "outputs": [
        {
          "output_type": "stream",
          "name": "stdout",
          "text": [
            "  Preparing metadata (setup.py) ... \u001b[?25l\u001b[?25hdone\n",
            "\u001b[2K   \u001b[90m━━━━━━━━━━━━━━━━━━━━━━━━━━━━━━━━━━━━━━━━\u001b[0m \u001b[32m42.0/42.0 kB\u001b[0m \u001b[31m2.6 MB/s\u001b[0m eta \u001b[36m0:00:00\u001b[0m\n",
            "\u001b[2K   \u001b[90m━━━━━━━━━━━━━━━━━━━━━━━━━━━━━━━━━━━━━━━━\u001b[0m \u001b[32m2.5/2.5 MB\u001b[0m \u001b[31m34.3 MB/s\u001b[0m eta \u001b[36m0:00:00\u001b[0m\n",
            "\u001b[2K   \u001b[90m━━━━━━━━━━━━━━━━━━━━━━━━━━━━━━━━━━━━━━━━\u001b[0m \u001b[32m45.2/45.2 kB\u001b[0m \u001b[31m3.0 MB/s\u001b[0m eta \u001b[36m0:00:00\u001b[0m\n",
            "\u001b[2K   \u001b[90m━━━━━━━━━━━━━━━━━━━━━━━━━━━━━━━━━━━━━━━━\u001b[0m \u001b[32m50.9/50.9 kB\u001b[0m \u001b[31m3.5 MB/s\u001b[0m eta \u001b[36m0:00:00\u001b[0m\n",
            "\u001b[?25h  Building wheel for wikipedia (setup.py) ... \u001b[?25l\u001b[?25hdone\n"
          ]
        }
      ],
      "source": [
        "!pip install -q langchain langchain-google-genai langchain-community google-generativeai wikipedia numexpr langchainhub"
      ]
    },
    {
      "cell_type": "code",
      "source": [
        "import random\n",
        "from langchain.agents import tool\n",
        "\n",
        "\n",
        "# This could be fetched dynamically from external APIs\n",
        "programming_jokes = [\n",
        "    \"Why don't programmers like nature? It has too many bugs.\",\n",
        "    \"Why did the C# developer fall asleep? Because he didn't like Java.\",\n",
        "    \"['hip', 'hip'] # (hip hip array!)\",\n",
        "    \"What's the object-oriented way to become wealthy? Inheritance.\",\n",
        "    \"Why was the JavaScript developer sad? Because he didn't know how to 'null' his feelings.\",\n",
        "    \"Why don't scientists trust atoms? Because they make up everything!\",\n",
        "    \"What do you call a lazy kangaroo? Pouch potato!\",\n",
        "    \"Why did the programmer quit his job? He didn't get arrays.\",\n",
        "    \"How many programmers does it take to change a light bulb? None, it's a hardware problem.\",\n",
        "    \"A SQL query goes into a bar, walks up to two tables and asks, 'Can I join you?'\"\n",
        "]"
      ],
      "metadata": {
        "id": "MnBSr3t4crgb"
      },
      "execution_count": 9,
      "outputs": []
    },
    {
      "cell_type": "code",
      "source": [
        "@tool\n",
        "def get_programming_joke(query: str) -> str:\n",
        "    \"\"\"Use this tool when you are asked to tell a joke, especially about programming, software, or computers.\"\"\"\n",
        "    return random.choice(programming_jokes)\n",
        "\n",
        "\n",
        "print(\"Custom 'get_programming_joke' tool created!\")\n"
      ],
      "metadata": {
        "colab": {
          "base_uri": "https://localhost:8080/"
        },
        "id": "OnDBoc02c1gz",
        "outputId": "6b84e78c-7085-429c-92f1-d945a46e990a"
      },
      "execution_count": 10,
      "outputs": [
        {
          "output_type": "stream",
          "name": "stdout",
          "text": [
            "Custom 'get_programming_joke' tool created!\n"
          ]
        }
      ]
    },
    {
      "cell_type": "code",
      "source": [
        "from langchain.agents import load_tools\n",
        "from langchain.memory import ConversationBufferMemory\n",
        "from langchain.agents import initialize_agent, AgentType\n",
        "\n",
        "\n",
        "from google.colab import userdata\n",
        "from langchain_google_genai import ChatGoogleGenerativeAI\n",
        "\n",
        "\n",
        "GOOGLE_API_KEY = None\n",
        "llm = None\n",
        "try:\n",
        "    GOOGLE_API_KEY = userdata.get('Divya_Key')\n",
        "    llm = ChatGoogleGenerativeAI(model=\"gemini-2.0-flash-lite\", temperature=0, max_tokens=500, google_api_key=GOOGLE_API_KEY)\n",
        "    print(\"API Key loaded and LLM initialized successfully.\")\n",
        "except Exception as e:\n",
        "    print(f\"ERROR: Could not load API key or initialize LLM. {e}\")\n",
        "# Load existing tools\n",
        "existing_tools = load_tools([\"wikipedia\", \"llm-math\"], llm=llm)\n",
        "\n",
        "\n",
        "# Create the new list with ALL tools\n",
        "all_tools = existing_tools + [get_programming_joke]\n",
        "print(f\"All loaded tools: {[t.name for t in all_tools]}\")\n",
        "\n",
        "\n",
        "# Initialize memory\n",
        "memory_with_joke = ConversationBufferMemory(memory_key=\"chat_history\", return_messages=True)\n"
      ],
      "metadata": {
        "colab": {
          "base_uri": "https://localhost:8080/"
        },
        "id": "jXMYq9rDc7Rj",
        "outputId": "7c101ecd-2110-4df0-e98a-031d89dc2982"
      },
      "execution_count": 15,
      "outputs": [
        {
          "output_type": "stream",
          "name": "stdout",
          "text": [
            "API Key loaded and LLM initialized successfully.\n",
            "All loaded tools: ['wikipedia', 'Calculator', 'get_programming_joke']\n"
          ]
        },
        {
          "output_type": "stream",
          "name": "stderr",
          "text": [
            "/tmp/ipython-input-15-3763431539.py:28: LangChainDeprecationWarning: Please see the migration guide at: https://python.langchain.com/docs/versions/migrating_memory/\n",
            "  memory_with_joke = ConversationBufferMemory(memory_key=\"chat_history\", return_messages=True)\n"
          ]
        }
      ]
    },
    {
      "cell_type": "code",
      "metadata": {
        "id": "7bee7c1d"
      },
      "source": [
        "# Initialize the agent\n",
        "agent_executor_with_joke = initialize_agent(\n",
        "    all_tools,\n",
        "    llm,\n",
        "    agent=AgentType.CHAT_CONVERSATIONAL_REACT_DESCRIPTION,\n",
        "    verbose=True,\n",
        "    memory=memory_with_joke,\n",
        "    handle_parsing_errors=True # Add this to handle parsing errors gracefully\n",
        ")"
      ],
      "execution_count": 22,
      "outputs": []
    },
    {
      "cell_type": "code",
      "source": [
        "# Assuming 'agent_executor_with_joke' is created\n",
        "\n",
        "\n",
        "print(\"\\n--- Testing the Joke Tool ---\")\n",
        "q_joke = \"Tell me a programming joke.\"\n",
        "print(f\"\\nUser: {q_joke}\")\n",
        "\n",
        "\n",
        "response_joke = agent_executor_with_joke.invoke({\"input\": q_joke})\n",
        "print(f\"\\nAgent: {response_joke['output']}\")\n"
      ],
      "metadata": {
        "colab": {
          "base_uri": "https://localhost:8080/"
        },
        "id": "psFLCEfZd_H5",
        "outputId": "4cc2e258-c8fc-4bfb-e542-de241d490306"
      },
      "execution_count": 23,
      "outputs": [
        {
          "output_type": "stream",
          "name": "stdout",
          "text": [
            "\n",
            "--- Testing the Joke Tool ---\n",
            "\n",
            "User: Tell me a programming joke.\n",
            "\n",
            "\n",
            "\u001b[1m> Entering new AgentExecutor chain...\u001b[0m\n",
            "\u001b[32;1m\u001b[1;3m```json\n",
            "{\n",
            "    \"action\": \"get_programming_joke\",\n",
            "    \"action_input\": \"\"\n",
            "}\n",
            "```\u001b[0m\n",
            "Observation: \u001b[38;5;200m\u001b[1;3m['hip', 'hip'] # (hip hip array!)\u001b[0m\n",
            "Thought:\u001b[32;1m\u001b[1;3m```json\n",
            "{\n",
            "    \"action\": \"Final Answer\",\n",
            "    \"action_input\": \"The joke was: hip, hip, array!\"\n",
            "}\n",
            "```\u001b[0m\n",
            "\n",
            "\u001b[1m> Finished chain.\u001b[0m\n",
            "\n",
            "Agent: The joke was: hip, hip, array!\n"
          ]
        }
      ]
    },
    {
      "cell_type": "code",
      "source": [
        "# Test if it still remembers/uses other tools\n",
        "q_wiki = \"Who is Yuval Noah Harari?\"\n",
        "print(f\"\\nUser: {q_wiki}\")\n",
        "response_wiki = agent_executor_with_joke.invoke({\"input\": q_wiki})\n",
        "print(f\"\\nAgent: {response_wiki['output']}\")\n"
      ],
      "metadata": {
        "colab": {
          "base_uri": "https://localhost:8080/"
        },
        "id": "4dIoaD6heVfK",
        "outputId": "9b349d93-47b2-47e9-c293-265ee846931a"
      },
      "execution_count": 24,
      "outputs": [
        {
          "output_type": "stream",
          "name": "stdout",
          "text": [
            "\n",
            "User: Who is Yuval Noah Harari?\n",
            "\n",
            "\n",
            "\u001b[1m> Entering new AgentExecutor chain...\u001b[0m\n",
            "\u001b[32;1m\u001b[1;3m```json\n",
            "{\n",
            "    \"action\": \"wikipedia\",\n",
            "    \"action_input\": \"Yuval Noah Harari\"\n",
            "}\n",
            "```\u001b[0m\n",
            "Observation: \u001b[36;1m\u001b[1;3mPage: Yuval Noah Harari\n",
            "Summary: Yuval Noah Harari (Hebrew: יובל נח הררי [juˈval ˈnoaχ haˈʁaʁi]; born 1976) is an Israeli medievalist, military historian, public intellectual, and popular science writer. He currently serves as professor in the Department of History at the Hebrew University of Jerusalem. His first bestselling book, Sapiens: A Brief History of Humankind (2011) is based on his lectures to an undergraduate world history class. His other works include the bestsellers Homo Deus: A Brief History of Tomorrow (2016), 21 Lessons for the 21st Century (2018), and Nexus: A Brief History of Information Networks from the Stone Age to AI (2024). His published work examines themes of free will, consciousness, intelligence, happiness, suffering and the role of storytelling in human evolution. \n",
            "In Sapiens, Harari writes about a \"cognitive revolution\" that supposedly occurred roughly 70,000 years ago when Homo sapiens supplanted the rival Neanderthals and other species of the genus Homo, developed language skills and structured societies, and ascended as apex predators, aided by the First Agricultural Revolution and accelerated by the Scientific Revolution, which have allowed humans to approach near mastery over their environment. Furthermore, he examines the possible consequences of a futuristic biotechnological world in which intelligent biological organisms are surpassed by their own creations; he has said, \"Homo sapiens as we know them will disappear in a century or so\". Although Harari's books have received considerable commercial success since the publication of Sapiens, his work has been more negatively received in academic circles.\n",
            "\n",
            "\n",
            "\n",
            "Page: Sapiens: A Brief History of Humankind\n",
            "Summary: Sapiens: A Brief History of Humankind (Hebrew: קיצור תולדות האנושות, Qitzur Toldot ha-Enoshut) is a book by Yuval Noah Harari, based on a series of lectures he taught at The Hebrew University of Jerusalem. It was first published in Hebrew in Israel in 2011, and in English in 2014. The book focuses on Homo sapiens, and surveys the history of humankind, starting from the Stone Age and going up to the 21st century. The account is situated within a framework that intersects the natural sciences with the social sciences.\n",
            "\n",
            "\n",
            "\n",
            "Page: 21 Lessons for the 21st Century\n",
            "Summary: 21 Lessons for the 21st Century is a book written by Israeli author Yuval Noah Harari and published in August 2018 by Spiegel & Grau in the US and by Jonathan Cape in the UK.  It is dedicated to the author's husband, Itzik.\n",
            "The book consists of five parts, each containing four or five essays. The book focuses on present-day issues and societal questions.\n",
            "\n",
            "\u001b[0m\n",
            "Thought:\u001b[32;1m\u001b[1;3m```json\n",
            "{\n",
            "    \"action\": \"Final Answer\",\n",
            "    \"action_input\": \"Yuval Noah Harari is an Israeli medievalist, military historian, public intellectual, and popular science writer. He is the author of several books, including \\\"Sapiens: A Brief History of Humankind\\\" and \\\"21 Lessons for the 21st Century.\\\"\"\n",
            "}\n",
            "```\u001b[0m\n",
            "\n",
            "\u001b[1m> Finished chain.\u001b[0m\n",
            "\n",
            "Agent: Yuval Noah Harari is an Israeli medievalist, military historian, public intellectual, and popular science writer. He is the author of several books, including \"Sapiens: A Brief History of Humankind\" and \"21 Lessons for the 21st Century.\"\n"
          ]
        }
      ]
    }
  ]
}